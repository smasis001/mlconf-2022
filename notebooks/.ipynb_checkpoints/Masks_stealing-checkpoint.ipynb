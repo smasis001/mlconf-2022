{
 "cells": [
  {
   "cell_type": "markdown",
   "metadata": {},
   "source": [
    "# Face Mask Model Neural Network Extraction\n",
    "### _Adversarial Robustness_ Workshop for ML Conference 2022 \n",
    "#### (scheduled for December 1st, 2022 1:30 PM CEST)"
   ]
  },
  {
   "cell_type": "markdown",
   "metadata": {},
   "source": [
    "This notebook will walk through:\n",
    "\n"
   ]
  },
  {
   "cell_type": "markdown",
   "metadata": {},
   "source": [
    "- Model Stealing Demo (adapted from [here](https://github.com/Trusted-AI/adversarial-robustness-toolbox/blob/main/notebooks/model-stealing-demo.ipynb))"
   ]
  },
  {
   "cell_type": "markdown",
   "metadata": {
    "tags": []
   },
   "source": [
    "## The Preparations"
   ]
  },
  {
   "cell_type": "markdown",
   "metadata": {
    "tags": []
   },
   "source": [
    "### Installing the Libraries"
   ]
  },
  {
   "cell_type": "code",
   "execution_count": null,
   "metadata": {},
   "outputs": [],
   "source": [
    "#!pip install --upgrade numpy"
   ]
  },
  {
   "cell_type": "code",
   "execution_count": null,
   "metadata": {},
   "outputs": [],
   "source": [
    "#!pip install --upgrade scikit-learn"
   ]
  },
  {
   "cell_type": "code",
   "execution_count": null,
   "metadata": {},
   "outputs": [],
   "source": [
    "#!pip install --upgrade tensorflow"
   ]
  },
  {
   "cell_type": "code",
   "execution_count": null,
   "metadata": {},
   "outputs": [],
   "source": [
    "#!pip install --upgrade matplotlib"
   ]
  },
  {
   "cell_type": "code",
   "execution_count": null,
   "metadata": {},
   "outputs": [],
   "source": [
    "#!pip install --upgrade pandas"
   ]
  },
  {
   "cell_type": "code",
   "execution_count": null,
   "metadata": {},
   "outputs": [],
   "source": [
    "!pip install --upgrade machine-learning-datasets\n",
    "!pip install adversarial-robustness-toolbox==1.12.2"
   ]
  },
  {
   "cell_type": "markdown",
   "metadata": {
    "tags": []
   },
   "source": [
    "### Loading the Libraries"
   ]
  },
  {
   "cell_type": "code",
   "execution_count": 1,
   "metadata": {
    "scrolled": true
   },
   "outputs": [
    {
     "name": "stderr",
     "output_type": "stream",
     "text": [
      "WARNING:root:No module named 'tempeh': LawSchoolGPADataset will be unavailable. To install, run:\n",
      "pip install 'aif360[LawSchoolGPA]'\n"
     ]
    },
    {
     "name": "stdout",
     "output_type": "stream",
     "text": [
      "CPU times: user 17.4 s, sys: 3.16 s, total: 20.5 s\n",
      "Wall time: 37.3 s\n"
     ]
    }
   ],
   "source": [
    "%%time\n",
    "import math\n",
    "import art\n",
    "import numpy as np\n",
    "from sklearn import preprocessing\n",
    "import machine_learning_datasets as mldatasets\n",
    "import matplotlib.pyplot as plt\n",
    "import pandas as pd\n",
    "%matplotlib inline\n",
    "\n",
    "import tensorflow as tf\n",
    "\n",
    "from art.estimators.classification import KerasClassifier\n",
    "from art.attacks import ExtractionAttack\n",
    "from art.attacks.extraction import CopycatCNN, KnockoffNets\n",
    "from art.defences.postprocessor import ReverseSigmoid"
   ]
  },
  {
   "cell_type": "markdown",
   "metadata": {},
   "source": [
    "We should also disable eager execution and verify that it worked with the following commands. The output should say that it's `False`:"
   ]
  },
  {
   "cell_type": "code",
   "execution_count": 2,
   "metadata": {},
   "outputs": [
    {
     "name": "stdout",
     "output_type": "stream",
     "text": [
      "Eager execution enabled:  False\n"
     ]
    }
   ],
   "source": [
    "tf.compat.v1.disable_eager_execution()\n",
    "print('Eager execution enabled: ', tf.executing_eagerly()) "
   ]
  },
  {
   "cell_type": "markdown",
   "metadata": {
    "tags": []
   },
   "source": [
    "### Understanding and Preparing the Data"
   ]
  },
  {
   "cell_type": "code",
   "execution_count": 17,
   "metadata": {},
   "outputs": [
    {
     "name": "stdout",
     "output_type": "stream",
     "text": [
      "https://github.com/PacktPublishing/Interpretable-Machine-Learning-with-Python/raw/master/datasets/maskedface-net_thumbs_sampled.zip downloaded to /Users/serg/EXTEND/PROJECTS/InterpretableML.ai/v2/presentations/mlconf-2022/notebooks/data/maskedface-net_thumbs_sampled.zip\n",
      "/Users/serg/EXTEND/PROJECTS/InterpretableML.ai/v2/presentations/mlconf-2022/notebooks/data/maskedface-net_thumbs_sampled.zip uncompressed to /Users/serg/EXTEND/PROJECTS/InterpretableML.ai/v2/presentations/mlconf-2022/notebooks/data/maskedface-net_thumbs_sampled\n",
      "21000 dataset files found in /Users/serg/EXTEND/PROJECTS/InterpretableML.ai/v2/presentations/mlconf-2022/notebooks/data/maskedface-net_thumbs_sampled folder\n"
     ]
    }
   ],
   "source": [
    "x_train, x_test0, y_train, y_test0 =\\\n",
    "                                    mldatasets.load(\"maskedface-net_thumbs_sampled\", prepare=True)\n",
    "x_train, x_test0 = x_train / 255.0, x_test0 / 255.0"
   ]
  },
  {
   "cell_type": "code",
   "execution_count": 18,
   "metadata": {},
   "outputs": [
    {
     "name": "stdout",
     "output_type": "stream",
     "text": [
      "['Correct', 'Incorrect', 'None']\n"
     ]
    }
   ],
   "source": [
    "ohe = preprocessing.OneHotEncoder(sparse=False)\n",
    "ohe.fit(y_train)\n",
    "labels_l = ohe.categories_[0].tolist()\n",
    "print(labels_l)"
   ]
  },
  {
   "cell_type": "code",
   "execution_count": 19,
   "metadata": {},
   "outputs": [],
   "source": [
    "y_train = ohe.transform(y_train)\n",
    "y_test0 = ohe.transform(y_test0)"
   ]
  },
  {
   "cell_type": "code",
   "execution_count": 20,
   "metadata": {},
   "outputs": [],
   "source": [
    "len_steal = 1000\n",
    "indices = np.random.permutation(len(x_test0))\n",
    "x_steal = x_test0[indices[:len_steal]]\n",
    "y_steal = y_test0[indices[:len_steal]]\n",
    "x_test = x_test0[indices[len_steal:]]\n",
    "y_test = y_test0[indices[len_steal:]]"
   ]
  },
  {
   "cell_type": "markdown",
   "metadata": {
    "tags": []
   },
   "source": [
    "### Create Base Model"
   ]
  },
  {
   "cell_type": "code",
   "execution_count": 21,
   "metadata": {},
   "outputs": [],
   "source": [
    "im_shape = x_train[0].shape\n",
    "\n",
    "def get_model():\n",
    "    model = tf.keras.models.Sequential([\n",
    "        tf.keras.layers.InputLayer(input_shape=x_train.shape[1:]),\n",
    "        tf.keras.layers.Conv2D(16, kernel_size=(3, 3), activation='relu', name='conv2d_1'),\n",
    "        tf.keras.layers.MaxPooling2D(pool_size=(2, 2), name='maxpool2d_1'),\n",
    "        tf.keras.layers.Conv2D(32, kernel_size=(3, 3), activation='relu', name='conv2d_2'),\n",
    "        tf.keras.layers.MaxPooling2D(pool_size=(2, 2), name='maxpool2d_2'),\n",
    "        tf.keras.layers.Conv2D(64, kernel_size=(3, 3), activation='relu', name='conv2d_3'),\n",
    "        tf.keras.layers.MaxPooling2D(pool_size=(2, 2), name=\"maxpool2d_3\"),\n",
    "        tf.keras.layers.Conv2D(128, kernel_size=(3, 3), activation='relu', name='conv2d_4'),\n",
    "        tf.keras.layers.MaxPooling2D(pool_size=(2, 2), name='maxpool2d_4'),\n",
    "        tf.keras.layers.Flatten(),\n",
    "        tf.keras.layers.Dense(768, activation='relu', name='dense_1'),\n",
    "        tf.keras.layers.Dropout(0.35),\n",
    "        tf.keras.layers.Dense(3, activation='softmax', name='dense_2')\n",
    "    ], name='CNN_Base_MaskedFaceNet_Model')\n",
    "\n",
    "    model.compile(optimizer=tf.keras.optimizers.Adam(lr=0.001),\n",
    "                  loss='categorical_crossentropy',\n",
    "                  metrics=['accuracy'])\n",
    "    return model"
   ]
  },
  {
   "cell_type": "markdown",
   "metadata": {},
   "source": [
    "### Train Base Model"
   ]
  },
  {
   "cell_type": "code",
   "execution_count": 22,
   "metadata": {},
   "outputs": [
    {
     "name": "stderr",
     "output_type": "stream",
     "text": [
      "The `lr` argument is deprecated, use `learning_rate` instead.\n"
     ]
    },
    {
     "name": "stdout",
     "output_type": "stream",
     "text": [
      "Original model training:\n",
      "Train on 16800 samples\n"
     ]
    },
    {
     "name": "stderr",
     "output_type": "stream",
     "text": [
      "2022-12-01 03:25:39.832394: I tensorflow/core/platform/cpu_feature_guard.cc:142] This TensorFlow binary is optimized with oneAPI Deep Neural Network Library (oneDNN) to use the following CPU instructions in performance-critical operations:  AVX2 FMA\n",
      "To enable them in other operations, rebuild TensorFlow with the appropriate compiler flags.\n"
     ]
    },
    {
     "name": "stdout",
     "output_type": "stream",
     "text": [
      "Epoch 1/5\n",
      "16800/16800 [==============================] - 212s 13ms/sample - loss: 0.1730 - accuracy: 0.9332\n",
      "Epoch 2/5\n",
      "16800/16800 [==============================] - 130s 8ms/sample - loss: 0.0225 - accuracy: 0.9953\n",
      "Epoch 3/5\n",
      "16800/16800 [==============================] - 135s 8ms/sample - loss: 0.0215 - accuracy: 0.9955\n",
      "Epoch 4/5\n",
      "16800/16800 [==============================] - 125s 7ms/sample - loss: 0.0164 - accuracy: 0.9968\n",
      "Epoch 5/5\n",
      "16800/16800 [==============================] - 110s 7ms/sample - loss: 0.0170 - accuracy: 0.9964\n",
      "Original model evaluation:\n"
     ]
    },
    {
     "name": "stderr",
     "output_type": "stream",
     "text": [
      "`Model.state_updates` will be removed in a future version. This property should not be used in TensorFlow 2.0, as `updates` are applied automatically.\n"
     ]
    },
    {
     "name": "stdout",
     "output_type": "stream",
     "text": [
      "[0.013882502944325097, 0.9971875]\n",
      "CPU times: user 31min 25s, sys: 7min 55s, total: 39min 21s\n",
      "Wall time: 12min 6s\n"
     ]
    }
   ],
   "source": [
    "%%time\n",
    "# Train the original model.\n",
    "num_epochs = 5\n",
    "model = get_model()\n",
    "print(\"Original model training:\")\n",
    "model.fit(x_train, y_train, batch_size=100, epochs=num_epochs)\n",
    "print(\"Original model evaluation:\")\n",
    "print(model.evaluate(x_test, y_test))\n",
    "classifier_original = KerasClassifier(model, clip_values=(0, 1), use_logits=False)"
   ]
  },
  {
   "cell_type": "markdown",
   "metadata": {},
   "source": [
    "## Stealing\n",
    "### Stealing from the unprotected classifier"
   ]
  },
  {
   "cell_type": "code",
   "execution_count": 23,
   "metadata": {},
   "outputs": [
    {
     "name": "stderr",
     "output_type": "stream",
     "text": [
      "WARNING:art.attacks.extraction.copycat_cnn:This attack does not use the provided label y.\n",
      "WARNING:art.attacks.extraction.copycat_cnn:The size of the source input is smaller than the expected number of queries submitted to the victim classifier.\n"
     ]
    },
    {
     "name": "stdout",
     "output_type": "stream",
     "text": [
      "Train on 50 samples\n",
      "Epoch 1/5\n",
      "50/50 [==============================] - 0s 7ms/sample - loss: 1.1119 - accuracy: 0.2800\n",
      "Epoch 2/5\n",
      "50/50 [==============================] - 0s 5ms/sample - loss: 1.0807 - accuracy: 0.4000\n",
      "Epoch 3/5\n",
      "50/50 [==============================] - 0s 6ms/sample - loss: 0.9995 - accuracy: 0.6800\n",
      "Epoch 4/5\n",
      "50/50 [==============================] - 0s 5ms/sample - loss: 0.9428 - accuracy: 0.7600\n",
      "Epoch 5/5\n",
      "50/50 [==============================] - 0s 5ms/sample - loss: 0.8435 - accuracy: 0.7000\n",
      "Probabilistic CopycatCNN : 0.6592771\n"
     ]
    },
    {
     "name": "stderr",
     "output_type": "stream",
     "text": [
      "WARNING:art.attacks.extraction.copycat_cnn:This attack does not use the provided label y.\n",
      "WARNING:art.attacks.extraction.copycat_cnn:The size of the source input is smaller than the expected number of queries submitted to the victim classifier.\n"
     ]
    },
    {
     "name": "stdout",
     "output_type": "stream",
     "text": [
      "Train on 50 samples\n",
      "Epoch 1/5\n",
      "50/50 [==============================] - 0s 7ms/sample - loss: 1.1196 - accuracy: 0.2200\n",
      "Epoch 2/5\n",
      "50/50 [==============================] - 0s 6ms/sample - loss: 1.2410 - accuracy: 0.4000\n",
      "Epoch 3/5\n",
      "50/50 [==============================] - 0s 6ms/sample - loss: 1.0731 - accuracy: 0.3800\n",
      "Epoch 4/5\n",
      "50/50 [==============================] - 0s 5ms/sample - loss: 1.0435 - accuracy: 0.6600\n",
      "Epoch 5/5\n",
      "50/50 [==============================] - 0s 5ms/sample - loss: 1.0259 - accuracy: 0.6800\n",
      "Argmax CopycatCNN : 0.41445783\n"
     ]
    },
    {
     "name": "stderr",
     "output_type": "stream",
     "text": [
      "WARNING:art.attacks.extraction.knockoff_nets:This attack with random sampling strategy does not use the provided label y.\n",
      "WARNING:art.attacks.extraction.knockoff_nets:The size of the source input is smaller than the expected number of queries submitted to the victim classifier.\n",
      "WARNING:art.attacks.extraction.knockoff_nets:This attack with random sampling strategy does not use the provided label y.\n",
      "WARNING:art.attacks.extraction.knockoff_nets:The size of the source input is smaller than the expected number of queries submitted to the victim classifier.\n"
     ]
    },
    {
     "name": "stdout",
     "output_type": "stream",
     "text": [
      "Probabilistic KnockoffNets : 0.65903616\n",
      "Argmax KnockoffNets : 0.3325301\n"
     ]
    },
    {
     "name": "stderr",
     "output_type": "stream",
     "text": [
      "WARNING:art.attacks.extraction.copycat_cnn:This attack does not use the provided label y.\n",
      "WARNING:art.attacks.extraction.copycat_cnn:The size of the source input is smaller than the expected number of queries submitted to the victim classifier.\n"
     ]
    },
    {
     "name": "stdout",
     "output_type": "stream",
     "text": [
      "Train on 100 samples\n",
      "Epoch 1/5\n",
      "100/100 [==============================] - 1s 7ms/sample - loss: 1.1363 - accuracy: 0.3400\n",
      "Epoch 2/5\n",
      "100/100 [==============================] - 1s 8ms/sample - loss: 1.0509 - accuracy: 0.5200\n",
      "Epoch 3/5\n",
      "100/100 [==============================] - 1s 6ms/sample - loss: 0.9678 - accuracy: 0.7300\n",
      "Epoch 4/5\n",
      "100/100 [==============================] - 1s 6ms/sample - loss: 0.7971 - accuracy: 0.6000\n",
      "Epoch 5/5\n",
      "100/100 [==============================] - 1s 6ms/sample - loss: 0.5195 - accuracy: 0.8700\n",
      "Probabilistic CopycatCNN : 0.9153659\n"
     ]
    },
    {
     "name": "stderr",
     "output_type": "stream",
     "text": [
      "WARNING:art.attacks.extraction.copycat_cnn:This attack does not use the provided label y.\n",
      "WARNING:art.attacks.extraction.copycat_cnn:The size of the source input is smaller than the expected number of queries submitted to the victim classifier.\n"
     ]
    },
    {
     "name": "stdout",
     "output_type": "stream",
     "text": [
      "Train on 100 samples\n",
      "Epoch 1/5\n",
      "100/100 [==============================] - 1s 10ms/sample - loss: 1.0830 - accuracy: 0.3700\n",
      "Epoch 2/5\n",
      "100/100 [==============================] - 1s 6ms/sample - loss: 0.9420 - accuracy: 0.6500\n",
      "Epoch 3/5\n",
      "100/100 [==============================] - 1s 6ms/sample - loss: 0.6809 - accuracy: 0.8100\n",
      "Epoch 4/5\n",
      "100/100 [==============================] - 1s 6ms/sample - loss: 0.3341 - accuracy: 0.9600\n",
      "Epoch 5/5\n",
      "100/100 [==============================] - 1s 7ms/sample - loss: 0.2389 - accuracy: 0.9200\n",
      "Argmax CopycatCNN : 0.9419512\n"
     ]
    },
    {
     "name": "stderr",
     "output_type": "stream",
     "text": [
      "WARNING:art.attacks.extraction.knockoff_nets:This attack with random sampling strategy does not use the provided label y.\n",
      "WARNING:art.attacks.extraction.knockoff_nets:The size of the source input is smaller than the expected number of queries submitted to the victim classifier.\n",
      "WARNING:art.attacks.extraction.knockoff_nets:This attack with random sampling strategy does not use the provided label y.\n",
      "WARNING:art.attacks.extraction.knockoff_nets:The size of the source input is smaller than the expected number of queries submitted to the victim classifier.\n"
     ]
    },
    {
     "name": "stdout",
     "output_type": "stream",
     "text": [
      "Probabilistic KnockoffNets : 0.92463416\n",
      "Argmax KnockoffNets : 0.7253659\n"
     ]
    },
    {
     "name": "stderr",
     "output_type": "stream",
     "text": [
      "WARNING:art.attacks.extraction.copycat_cnn:This attack does not use the provided label y.\n",
      "WARNING:art.attacks.extraction.copycat_cnn:The size of the source input is smaller than the expected number of queries submitted to the victim classifier.\n"
     ]
    },
    {
     "name": "stdout",
     "output_type": "stream",
     "text": [
      "Train on 200 samples\n",
      "Epoch 1/5\n",
      "200/200 [==============================] - 1s 6ms/sample - loss: 1.1046 - accuracy: 0.3400\n",
      "Epoch 2/5\n",
      "200/200 [==============================] - 1s 5ms/sample - loss: 0.9748 - accuracy: 0.4750\n",
      "Epoch 3/5\n",
      "200/200 [==============================] - 1s 5ms/sample - loss: 0.5810 - accuracy: 0.7800\n",
      "Epoch 4/5\n",
      "200/200 [==============================] - 1s 6ms/sample - loss: 0.2857 - accuracy: 0.9400\n",
      "Epoch 5/5\n",
      "200/200 [==============================] - 1s 5ms/sample - loss: 0.1460 - accuracy: 0.9500\n"
     ]
    },
    {
     "name": "stderr",
     "output_type": "stream",
     "text": [
      "WARNING:art.attacks.extraction.copycat_cnn:This attack does not use the provided label y.\n",
      "WARNING:art.attacks.extraction.copycat_cnn:The size of the source input is smaller than the expected number of queries submitted to the victim classifier.\n"
     ]
    },
    {
     "name": "stdout",
     "output_type": "stream",
     "text": [
      "Probabilistic CopycatCNN : 0.93625\n",
      "Train on 200 samples\n",
      "Epoch 1/5\n",
      "200/200 [==============================] - 1s 6ms/sample - loss: 1.1790 - accuracy: 0.3600\n",
      "Epoch 2/5\n",
      "200/200 [==============================] - 1s 5ms/sample - loss: 1.0651 - accuracy: 0.4500\n",
      "Epoch 3/5\n",
      "200/200 [==============================] - 1s 5ms/sample - loss: 1.0473 - accuracy: 0.3700\n",
      "Epoch 4/5\n",
      "200/200 [==============================] - 1s 6ms/sample - loss: 1.0000 - accuracy: 0.7050\n",
      "Epoch 5/5\n",
      "200/200 [==============================] - 1s 6ms/sample - loss: 0.8236 - accuracy: 0.7100\n"
     ]
    },
    {
     "name": "stderr",
     "output_type": "stream",
     "text": [
      "WARNING:art.attacks.extraction.knockoff_nets:This attack with random sampling strategy does not use the provided label y.\n",
      "WARNING:art.attacks.extraction.knockoff_nets:The size of the source input is smaller than the expected number of queries submitted to the victim classifier.\n"
     ]
    },
    {
     "name": "stdout",
     "output_type": "stream",
     "text": [
      "Argmax CopycatCNN : 0.4095\n"
     ]
    },
    {
     "name": "stderr",
     "output_type": "stream",
     "text": [
      "WARNING:art.attacks.extraction.knockoff_nets:This attack with random sampling strategy does not use the provided label y.\n",
      "WARNING:art.attacks.extraction.knockoff_nets:The size of the source input is smaller than the expected number of queries submitted to the victim classifier.\n"
     ]
    },
    {
     "name": "stdout",
     "output_type": "stream",
     "text": [
      "Probabilistic KnockoffNets : 0.853\n",
      "Argmax KnockoffNets : 0.9515\n"
     ]
    },
    {
     "name": "stderr",
     "output_type": "stream",
     "text": [
      "WARNING:art.attacks.extraction.copycat_cnn:This attack does not use the provided label y.\n",
      "WARNING:art.attacks.extraction.copycat_cnn:The size of the source input is smaller than the expected number of queries submitted to the victim classifier.\n"
     ]
    },
    {
     "name": "stdout",
     "output_type": "stream",
     "text": [
      "Train on 400 samples\n",
      "Epoch 1/5\n",
      "400/400 [==============================] - 2s 6ms/sample - loss: 1.0363 - accuracy: 0.4150\n",
      "Epoch 2/5\n",
      "400/400 [==============================] - 2s 5ms/sample - loss: 0.3545 - accuracy: 0.9225\n",
      "Epoch 3/5\n",
      "400/400 [==============================] - 2s 5ms/sample - loss: 0.2273 - accuracy: 0.9275\n",
      "Epoch 4/5\n",
      "400/400 [==============================] - 2s 5ms/sample - loss: 0.1238 - accuracy: 0.9600\n",
      "Epoch 5/5\n",
      "400/400 [==============================] - 2s 5ms/sample - loss: 0.1226 - accuracy: 0.9625\n"
     ]
    },
    {
     "name": "stderr",
     "output_type": "stream",
     "text": [
      "WARNING:art.attacks.extraction.copycat_cnn:This attack does not use the provided label y.\n",
      "WARNING:art.attacks.extraction.copycat_cnn:The size of the source input is smaller than the expected number of queries submitted to the victim classifier.\n"
     ]
    },
    {
     "name": "stdout",
     "output_type": "stream",
     "text": [
      "Probabilistic CopycatCNN : 0.9642105\n",
      "Train on 400 samples\n",
      "Epoch 1/5\n",
      "400/400 [==============================] - 2s 6ms/sample - loss: 1.2432 - accuracy: 0.3275\n",
      "Epoch 2/5\n",
      "400/400 [==============================] - 2s 5ms/sample - loss: 1.0449 - accuracy: 0.4700\n",
      "Epoch 3/5\n",
      "400/400 [==============================] - 2s 5ms/sample - loss: 0.6937 - accuracy: 0.8700\n",
      "Epoch 4/5\n",
      "400/400 [==============================] - 2s 6ms/sample - loss: 0.2448 - accuracy: 0.9375\n",
      "Epoch 5/5\n",
      "400/400 [==============================] - 2s 6ms/sample - loss: 0.1977 - accuracy: 0.9300\n"
     ]
    },
    {
     "name": "stderr",
     "output_type": "stream",
     "text": [
      "WARNING:art.attacks.extraction.knockoff_nets:This attack with random sampling strategy does not use the provided label y.\n",
      "WARNING:art.attacks.extraction.knockoff_nets:The size of the source input is smaller than the expected number of queries submitted to the victim classifier.\n"
     ]
    },
    {
     "name": "stdout",
     "output_type": "stream",
     "text": [
      "Argmax CopycatCNN : 0.9455263\n",
      "Probabilistic KnockoffNets : 0.9518421\n"
     ]
    },
    {
     "name": "stderr",
     "output_type": "stream",
     "text": [
      "WARNING:art.attacks.extraction.knockoff_nets:This attack with random sampling strategy does not use the provided label y.\n",
      "WARNING:art.attacks.extraction.knockoff_nets:The size of the source input is smaller than the expected number of queries submitted to the victim classifier.\n"
     ]
    },
    {
     "name": "stdout",
     "output_type": "stream",
     "text": [
      "Argmax KnockoffNets : 0.9607895\n"
     ]
    },
    {
     "name": "stderr",
     "output_type": "stream",
     "text": [
      "WARNING:art.attacks.extraction.copycat_cnn:This attack does not use the provided label y.\n",
      "WARNING:art.attacks.extraction.copycat_cnn:The size of the source input is smaller than the expected number of queries submitted to the victim classifier.\n"
     ]
    },
    {
     "name": "stdout",
     "output_type": "stream",
     "text": [
      "Train on 800 samples\n",
      "Epoch 1/5\n",
      "800/800 [==============================] - 4s 5ms/sample - loss: 0.7996 - accuracy: 0.6938\n",
      "Epoch 2/5\n",
      "800/800 [==============================] - 4s 5ms/sample - loss: 0.2870 - accuracy: 0.8950\n",
      "Epoch 3/5\n",
      "800/800 [==============================] - 4s 5ms/sample - loss: 0.1333 - accuracy: 0.9550\n",
      "Epoch 4/5\n",
      "800/800 [==============================] - 4s 5ms/sample - loss: 0.0909 - accuracy: 0.9725\n",
      "Epoch 5/5\n",
      "800/800 [==============================] - 4s 5ms/sample - loss: 0.0748 - accuracy: 0.9837\n",
      "Probabilistic CopycatCNN : 0.9782353\n"
     ]
    },
    {
     "name": "stderr",
     "output_type": "stream",
     "text": [
      "WARNING:art.attacks.extraction.copycat_cnn:This attack does not use the provided label y.\n",
      "WARNING:art.attacks.extraction.copycat_cnn:The size of the source input is smaller than the expected number of queries submitted to the victim classifier.\n"
     ]
    },
    {
     "name": "stdout",
     "output_type": "stream",
     "text": [
      "Train on 800 samples\n",
      "Epoch 1/5\n",
      "800/800 [==============================] - 4s 5ms/sample - loss: 0.8983 - accuracy: 0.6012\n",
      "Epoch 2/5\n",
      "800/800 [==============================] - 4s 5ms/sample - loss: 0.1968 - accuracy: 0.9312\n",
      "Epoch 3/5\n",
      "800/800 [==============================] - 4s 5ms/sample - loss: 0.1660 - accuracy: 0.9525\n",
      "Epoch 4/5\n",
      "800/800 [==============================] - 4s 5ms/sample - loss: 0.1036 - accuracy: 0.9625\n",
      "Epoch 5/5\n",
      "800/800 [==============================] - 4s 5ms/sample - loss: 0.0505 - accuracy: 0.9875\n",
      "Argmax CopycatCNN : 0.98176473\n"
     ]
    },
    {
     "name": "stderr",
     "output_type": "stream",
     "text": [
      "WARNING:art.attacks.extraction.knockoff_nets:This attack with random sampling strategy does not use the provided label y.\n",
      "WARNING:art.attacks.extraction.knockoff_nets:The size of the source input is smaller than the expected number of queries submitted to the victim classifier.\n"
     ]
    },
    {
     "name": "stdout",
     "output_type": "stream",
     "text": [
      "Probabilistic KnockoffNets : 0.9685294\n"
     ]
    },
    {
     "name": "stderr",
     "output_type": "stream",
     "text": [
      "WARNING:art.attacks.extraction.knockoff_nets:This attack with random sampling strategy does not use the provided label y.\n",
      "WARNING:art.attacks.extraction.knockoff_nets:The size of the source input is smaller than the expected number of queries submitted to the victim classifier.\n"
     ]
    },
    {
     "name": "stdout",
     "output_type": "stream",
     "text": [
      "Argmax KnockoffNets : 0.9667647\n"
     ]
    },
    {
     "name": "stderr",
     "output_type": "stream",
     "text": [
      "WARNING:art.attacks.extraction.copycat_cnn:This attack does not use the provided label y.\n"
     ]
    },
    {
     "name": "stdout",
     "output_type": "stream",
     "text": [
      "Train on 1000 samples\n",
      "Epoch 1/5\n",
      "1000/1000 [==============================] - 5s 5ms/sample - loss: 0.9927 - accuracy: 0.6380\n",
      "Epoch 2/5\n",
      "1000/1000 [==============================] - 6s 6ms/sample - loss: 0.2367 - accuracy: 0.9260\n",
      "Epoch 3/5\n",
      "1000/1000 [==============================] - 5s 5ms/sample - loss: 0.1461 - accuracy: 0.9490\n",
      "Epoch 4/5\n",
      "1000/1000 [==============================] - 5s 5ms/sample - loss: 0.0881 - accuracy: 0.9740\n",
      "Epoch 5/5\n",
      "1000/1000 [==============================] - 5s 5ms/sample - loss: 0.0658 - accuracy: 0.9810\n",
      "Probabilistic CopycatCNN : 0.9871875\n"
     ]
    },
    {
     "name": "stderr",
     "output_type": "stream",
     "text": [
      "WARNING:art.attacks.extraction.copycat_cnn:This attack does not use the provided label y.\n"
     ]
    },
    {
     "name": "stdout",
     "output_type": "stream",
     "text": [
      "Train on 1000 samples\n",
      "Epoch 1/5\n",
      "1000/1000 [==============================] - 5s 5ms/sample - loss: 0.8053 - accuracy: 0.6640\n",
      "Epoch 2/5\n",
      "1000/1000 [==============================] - 5s 5ms/sample - loss: 0.1794 - accuracy: 0.9400\n",
      "Epoch 3/5\n",
      "1000/1000 [==============================] - 5s 5ms/sample - loss: 0.0983 - accuracy: 0.9610\n",
      "Epoch 4/5\n",
      "1000/1000 [==============================] - 5s 5ms/sample - loss: 0.0569 - accuracy: 0.9830\n",
      "Epoch 5/5\n",
      "1000/1000 [==============================] - 5s 5ms/sample - loss: 0.0281 - accuracy: 0.9920\n"
     ]
    },
    {
     "name": "stderr",
     "output_type": "stream",
     "text": [
      "WARNING:art.attacks.extraction.knockoff_nets:This attack with random sampling strategy does not use the provided label y.\n"
     ]
    },
    {
     "name": "stdout",
     "output_type": "stream",
     "text": [
      "Argmax CopycatCNN : 0.9871875\n",
      "Probabilistic KnockoffNets : 0.99125\n"
     ]
    },
    {
     "name": "stderr",
     "output_type": "stream",
     "text": [
      "WARNING:art.attacks.extraction.knockoff_nets:This attack with random sampling strategy does not use the provided label y.\n"
     ]
    },
    {
     "name": "stdout",
     "output_type": "stream",
     "text": [
      "Argmax KnockoffNets : 0.9878125\n",
      "CPU times: user 28min 23s, sys: 5min 28s, total: 33min 52s\n",
      "Wall time: 8min 33s\n"
     ]
    }
   ],
   "source": [
    "%%time\n",
    "# Stealing from the unprotected classifier.\n",
    "\n",
    "attack_catalogue = {\"Probabilistic CopycatCNN\": CopycatCNN(classifier=classifier_original,\n",
    "                                              batch_size_fit=64,\n",
    "                                              batch_size_query=64,\n",
    "                                              nb_epochs=num_epochs,\n",
    "                                              nb_stolen=len_steal,\n",
    "                                              use_probability=True),\n",
    "                    \"Argmax CopycatCNN\": CopycatCNN(classifier=classifier_original,\n",
    "                                              batch_size_fit=64,\n",
    "                                              batch_size_query=64,\n",
    "                                              nb_epochs=num_epochs,\n",
    "                                              nb_stolen=len_steal,\n",
    "                                              use_probability=False),\n",
    "                    \"Probabilistic KnockoffNets\": KnockoffNets(classifier=classifier_original,\n",
    "                                              batch_size_fit=64,\n",
    "                                              batch_size_query=64,\n",
    "                                              nb_epochs=num_epochs,\n",
    "                                              nb_stolen=len_steal,\n",
    "                                              use_probability=True),\n",
    "                    \"Argmax KnockoffNets\": KnockoffNets(classifier=classifier_original,\n",
    "                                              batch_size_fit=64,\n",
    "                                              batch_size_query=64,\n",
    "                                              nb_epochs=num_epochs,\n",
    "                                              nb_stolen=len_steal,\n",
    "                                              use_probability=False),\n",
    "                   }\n",
    "\n",
    "results = []\n",
    "for len_steal in [50, 100, 200, 400, 800, 1000]:\n",
    "    indices = np.random.permutation(len(x_test0))\n",
    "    x_steal = x_test0[indices[:len_steal]]\n",
    "    y_steal = y_test0[indices[:len_steal]]\n",
    "    x_test = x_test0[indices[len_steal:]]\n",
    "    y_test = y_test0[indices[len_steal:]]\n",
    "\n",
    "    for name, attack in attack_catalogue.items():\n",
    "        model_stolen = get_model()\n",
    "        classifier_stolen = KerasClassifier(model_stolen, clip_values=(0, 1), use_logits=False)\n",
    "        classifier_stolen = attack.extract(x_steal, y_steal, thieved_classifier=classifier_stolen)\n",
    "        acc = classifier_stolen._model.evaluate(x_test, y_test)[1]\n",
    "        print(name, \":\", acc)\n",
    "        results.append((name, len_steal, acc))"
   ]
  },
  {
   "cell_type": "markdown",
   "metadata": {},
   "source": [
    "### Evaluate Stolen Models"
   ]
  },
  {
   "cell_type": "code",
   "execution_count": 24,
   "metadata": {},
   "outputs": [
    {
     "data": {
      "image/png": "[encoded data removed]",
      "text/plain": [
       "<Figure size 576x432 with 1 Axes>"
      ]
     },
     "metadata": {
      "needs_background": "light"
     },
     "output_type": "display_data"
    },
    {
     "name": "stdout",
     "output_type": "stream",
     "text": [
      "CPU times: user 331 ms, sys: 193 ms, total: 524 ms\n",
      "Wall time: 580 ms\n"
     ]
    }
   ],
   "source": [
    "%%time\n",
    "df = pd.DataFrame(results, columns=('Method Name', 'Stealing Dataset Size', 'Accuracy'))\n",
    "fig, ax = plt.subplots(figsize=(8,6))\n",
    "ax.set_xlabel(\"Stealing Dataset Size\")\n",
    "ax.set_ylabel(\"Stolen Model Accuracy\")\n",
    "for name, group in df.groupby(\"Method Name\"):\n",
    "    group.plot(1, 2, ax=ax, label=name)\n",
    "plt.show()"
   ]
  },
  {
   "cell_type": "markdown",
   "metadata": {},
   "source": [
    "## Defense\n",
    "### Defend with Reverse Sigmoid"
   ]
  },
  {
   "cell_type": "code",
   "execution_count": 25,
   "metadata": {},
   "outputs": [
    {
     "name": "stdout",
     "output_type": "stream",
     "text": [
      "CPU times: user 237 ms, sys: 23.7 ms, total: 260 ms\n",
      "Wall time: 278 ms\n"
     ]
    },
    {
     "name": "stderr",
     "output_type": "stream",
     "text": [
      "The `lr` argument is deprecated, use `learning_rate` instead.\n"
     ]
    }
   ],
   "source": [
    "%%time\n",
    "# Prepare the defense layer.\n",
    "postprocessor = ReverseSigmoid(beta=1.0, gamma=0.2)\n",
    "classifier_protected = KerasClassifier(model, clip_values=(0, 1), use_logits=False, postprocessing_defences=postprocessor)\n",
    "\n",
    "# Below is used by `FunctionallyEquivalentExtraction`.\n",
    "model_flat = tf.keras.models.Sequential([tf.keras.layers.InputLayer([49152]), tf.keras.layers.Reshape([128, 128, 3]), model])\n",
    "model_flat.compile(tf.keras.optimizers.Adam(lr=0.001), 'categorical_crossentropy', ['accuracy'])\n",
    "classifier_flat_protected = KerasClassifier(model_flat, clip_values=(0, 1), use_logits=False, postprocessing_defences=postprocessor)"
   ]
  },
  {
   "cell_type": "markdown",
   "metadata": {},
   "source": [
    "### Attack Protected Classifier"
   ]
  },
  {
   "cell_type": "code",
   "execution_count": 26,
   "metadata": {},
   "outputs": [
    {
     "name": "stderr",
     "output_type": "stream",
     "text": [
      "WARNING:art.attacks.extraction.copycat_cnn:This attack does not use the provided label y.\n",
      "WARNING:art.attacks.extraction.copycat_cnn:The size of the source input is smaller than the expected number of queries submitted to the victim classifier.\n",
      "divide by zero encountered in log\n"
     ]
    },
    {
     "name": "stdout",
     "output_type": "stream",
     "text": [
      "Train on 50 samples\n",
      "Epoch 1/5\n",
      "50/50 [==============================] - 1s 14ms/sample - loss: 1.0985 - accuracy: 0.4200\n",
      "Epoch 2/5\n",
      "50/50 [==============================] - 0s 6ms/sample - loss: 1.9422 - accuracy: 0.4200\n",
      "Epoch 3/5\n",
      "50/50 [==============================] - 0s 7ms/sample - loss: 1.1226 - accuracy: 0.4600\n",
      "Epoch 4/5\n",
      "50/50 [==============================] - 0s 6ms/sample - loss: 1.1099 - accuracy: 0.3000\n",
      "Epoch 5/5\n",
      "50/50 [==============================] - 0s 5ms/sample - loss: 1.1119 - accuracy: 0.3000\n"
     ]
    },
    {
     "name": "stderr",
     "output_type": "stream",
     "text": [
      "`Model.state_updates` will be removed in a future version. This property should not be used in TensorFlow 2.0, as `updates` are applied automatically.\n"
     ]
    },
    {
     "name": "stdout",
     "output_type": "stream",
     "text": [
      "Probabilistic CopycatCNN (vs. Protected) : 0.3607229\n"
     ]
    },
    {
     "name": "stderr",
     "output_type": "stream",
     "text": [
      "WARNING:art.attacks.extraction.copycat_cnn:This attack does not use the provided label y.\n",
      "WARNING:art.attacks.extraction.copycat_cnn:The size of the source input is smaller than the expected number of queries submitted to the victim classifier.\n"
     ]
    },
    {
     "name": "stdout",
     "output_type": "stream",
     "text": [
      "Train on 50 samples\n",
      "Epoch 1/5\n",
      "50/50 [==============================] - 0s 9ms/sample - loss: 1.1002 - accuracy: 0.3600\n",
      "Epoch 2/5\n",
      "50/50 [==============================] - 0s 6ms/sample - loss: 1.1820 - accuracy: 0.4200\n",
      "Epoch 3/5\n",
      "50/50 [==============================] - 0s 6ms/sample - loss: 1.0549 - accuracy: 0.3000\n",
      "Epoch 4/5\n",
      "50/50 [==============================] - 0s 5ms/sample - loss: 1.0342 - accuracy: 0.4000\n",
      "Epoch 5/5\n",
      "50/50 [==============================] - 0s 6ms/sample - loss: 0.9743 - accuracy: 0.7600\n",
      "Argmax CopycatCNN (vs. Protected) : 0.853494\n"
     ]
    },
    {
     "name": "stderr",
     "output_type": "stream",
     "text": [
      "WARNING:art.attacks.extraction.knockoff_nets:This attack with random sampling strategy does not use the provided label y.\n",
      "WARNING:art.attacks.extraction.knockoff_nets:The size of the source input is smaller than the expected number of queries submitted to the victim classifier.\n"
     ]
    },
    {
     "name": "stdout",
     "output_type": "stream",
     "text": [
      "Probabilistic KnockoffNets (vs. Protected) : 0.3339759\n"
     ]
    },
    {
     "name": "stderr",
     "output_type": "stream",
     "text": [
      "WARNING:art.attacks.extraction.knockoff_nets:This attack with random sampling strategy does not use the provided label y.\n",
      "WARNING:art.attacks.extraction.knockoff_nets:The size of the source input is smaller than the expected number of queries submitted to the victim classifier.\n"
     ]
    },
    {
     "name": "stdout",
     "output_type": "stream",
     "text": [
      "Argmax KnockoffNets (vs. Protected) : 0.7520482\n"
     ]
    },
    {
     "name": "stderr",
     "output_type": "stream",
     "text": [
      "WARNING:art.attacks.extraction.copycat_cnn:This attack does not use the provided label y.\n",
      "WARNING:art.attacks.extraction.copycat_cnn:The size of the source input is smaller than the expected number of queries submitted to the victim classifier.\n"
     ]
    },
    {
     "name": "stdout",
     "output_type": "stream",
     "text": [
      "Train on 100 samples\n",
      "Epoch 1/5\n",
      "100/100 [==============================] - 1s 8ms/sample - loss: 1.1613 - accuracy: 0.3000\n",
      "Epoch 2/5\n",
      "100/100 [==============================] - 1s 6ms/sample - loss: 1.0891 - accuracy: 0.3800\n",
      "Epoch 3/5\n",
      "100/100 [==============================] - 1s 7ms/sample - loss: 1.0972 - accuracy: 0.3600\n",
      "Epoch 4/5\n",
      "100/100 [==============================] - 1s 6ms/sample - loss: 1.0951 - accuracy: 0.5600\n",
      "Epoch 5/5\n",
      "100/100 [==============================] - 1s 6ms/sample - loss: 1.0895 - accuracy: 0.3800\n"
     ]
    },
    {
     "name": "stderr",
     "output_type": "stream",
     "text": [
      "WARNING:art.attacks.extraction.copycat_cnn:This attack does not use the provided label y.\n",
      "WARNING:art.attacks.extraction.copycat_cnn:The size of the source input is smaller than the expected number of queries submitted to the victim classifier.\n"
     ]
    },
    {
     "name": "stdout",
     "output_type": "stream",
     "text": [
      "Probabilistic CopycatCNN (vs. Protected) : 0.33219513\n",
      "Train on 100 samples\n",
      "Epoch 1/5\n",
      "100/100 [==============================] - 1s 8ms/sample - loss: 1.0991 - accuracy: 0.4200\n",
      "Epoch 2/5\n",
      "100/100 [==============================] - 1s 6ms/sample - loss: 0.9889 - accuracy: 0.3900\n",
      "Epoch 3/5\n",
      "100/100 [==============================] - 1s 6ms/sample - loss: 0.6973 - accuracy: 0.9400\n",
      "Epoch 4/5\n",
      "100/100 [==============================] - 1s 6ms/sample - loss: 0.4030 - accuracy: 0.8500\n",
      "Epoch 5/5\n",
      "100/100 [==============================] - 1s 6ms/sample - loss: 0.2179 - accuracy: 0.9500\n"
     ]
    },
    {
     "name": "stderr",
     "output_type": "stream",
     "text": [
      "WARNING:art.attacks.extraction.knockoff_nets:This attack with random sampling strategy does not use the provided label y.\n",
      "WARNING:art.attacks.extraction.knockoff_nets:The size of the source input is smaller than the expected number of queries submitted to the victim classifier.\n"
     ]
    },
    {
     "name": "stdout",
     "output_type": "stream",
     "text": [
      "Argmax CopycatCNN (vs. Protected) : 0.93609756\n"
     ]
    },
    {
     "name": "stderr",
     "output_type": "stream",
     "text": [
      "WARNING:art.attacks.extraction.knockoff_nets:This attack with random sampling strategy does not use the provided label y.\n",
      "WARNING:art.attacks.extraction.knockoff_nets:The size of the source input is smaller than the expected number of queries submitted to the victim classifier.\n"
     ]
    },
    {
     "name": "stdout",
     "output_type": "stream",
     "text": [
      "Probabilistic KnockoffNets (vs. Protected) : 0.33219513\n",
      "Argmax KnockoffNets (vs. Protected) : 0.8007317\n"
     ]
    },
    {
     "name": "stderr",
     "output_type": "stream",
     "text": [
      "WARNING:art.attacks.extraction.copycat_cnn:This attack does not use the provided label y.\n",
      "WARNING:art.attacks.extraction.copycat_cnn:The size of the source input is smaller than the expected number of queries submitted to the victim classifier.\n"
     ]
    },
    {
     "name": "stdout",
     "output_type": "stream",
     "text": [
      "Train on 200 samples\n",
      "Epoch 1/5\n",
      "200/200 [==============================] - 1s 7ms/sample - loss: 1.1262 - accuracy: 0.3650\n",
      "Epoch 2/5\n",
      "200/200 [==============================] - 1s 5ms/sample - loss: 1.0962 - accuracy: 0.3600\n",
      "Epoch 3/5\n",
      "200/200 [==============================] - 1s 5ms/sample - loss: 1.0917 - accuracy: 0.2950\n",
      "Epoch 4/5\n",
      "200/200 [==============================] - 1s 5ms/sample - loss: 1.0905 - accuracy: 0.2950\n",
      "Epoch 5/5\n",
      "200/200 [==============================] - 1s 5ms/sample - loss: 1.0812 - accuracy: 0.5000\n",
      "Probabilistic CopycatCNN (vs. Protected) : 0.524\n"
     ]
    },
    {
     "name": "stderr",
     "output_type": "stream",
     "text": [
      "WARNING:art.attacks.extraction.copycat_cnn:This attack does not use the provided label y.\n",
      "WARNING:art.attacks.extraction.copycat_cnn:The size of the source input is smaller than the expected number of queries submitted to the victim classifier.\n"
     ]
    },
    {
     "name": "stdout",
     "output_type": "stream",
     "text": [
      "Train on 200 samples\n",
      "Epoch 1/5\n",
      "200/200 [==============================] - 1s 7ms/sample - loss: 1.1461 - accuracy: 0.2900\n",
      "Epoch 2/5\n",
      "200/200 [==============================] - 1s 6ms/sample - loss: 1.0908 - accuracy: 0.4000\n",
      "Epoch 3/5\n",
      "200/200 [==============================] - 1s 6ms/sample - loss: 1.0488 - accuracy: 0.4050\n",
      "Epoch 4/5\n",
      "200/200 [==============================] - 1s 6ms/sample - loss: 0.9321 - accuracy: 0.4350\n",
      "Epoch 5/5\n",
      "200/200 [==============================] - 1s 6ms/sample - loss: 0.5874 - accuracy: 0.8700\n"
     ]
    },
    {
     "name": "stderr",
     "output_type": "stream",
     "text": [
      "WARNING:art.attacks.extraction.knockoff_nets:This attack with random sampling strategy does not use the provided label y.\n"
     ]
    },
    {
     "name": "stdout",
     "output_type": "stream",
     "text": [
      "Argmax CopycatCNN (vs. Protected) : 0.9465\n"
     ]
    },
    {
     "name": "stderr",
     "output_type": "stream",
     "text": [
      "WARNING:art.attacks.extraction.knockoff_nets:The size of the source input is smaller than the expected number of queries submitted to the victim classifier.\n"
     ]
    },
    {
     "name": "stdout",
     "output_type": "stream",
     "text": [
      "Probabilistic KnockoffNets (vs. Protected) : 0.49925\n"
     ]
    },
    {
     "name": "stderr",
     "output_type": "stream",
     "text": [
      "WARNING:art.attacks.extraction.knockoff_nets:This attack with random sampling strategy does not use the provided label y.\n",
      "WARNING:art.attacks.extraction.knockoff_nets:The size of the source input is smaller than the expected number of queries submitted to the victim classifier.\n"
     ]
    },
    {
     "name": "stdout",
     "output_type": "stream",
     "text": [
      "Argmax KnockoffNets (vs. Protected) : 0.647\n"
     ]
    },
    {
     "name": "stderr",
     "output_type": "stream",
     "text": [
      "WARNING:art.attacks.extraction.copycat_cnn:This attack does not use the provided label y.\n",
      "WARNING:art.attacks.extraction.copycat_cnn:The size of the source input is smaller than the expected number of queries submitted to the victim classifier.\n"
     ]
    },
    {
     "name": "stdout",
     "output_type": "stream",
     "text": [
      "Train on 400 samples\n",
      "Epoch 1/5\n",
      "400/400 [==============================] - 2s 6ms/sample - loss: 1.1555 - accuracy: 0.3575\n",
      "Epoch 2/5\n",
      "400/400 [==============================] - 2s 5ms/sample - loss: 1.0905 - accuracy: 0.3100\n",
      "Epoch 3/5\n",
      "400/400 [==============================] - 2s 5ms/sample - loss: 1.0888 - accuracy: 0.3100\n",
      "Epoch 4/5\n",
      "400/400 [==============================] - 2s 5ms/sample - loss: 1.0883 - accuracy: 0.3125\n",
      "Epoch 5/5\n",
      "400/400 [==============================] - 2s 5ms/sample - loss: 1.0858 - accuracy: 0.3275\n",
      "Probabilistic CopycatCNN (vs. Protected) : 0.3405263\n"
     ]
    },
    {
     "name": "stderr",
     "output_type": "stream",
     "text": [
      "WARNING:art.attacks.extraction.copycat_cnn:This attack does not use the provided label y.\n",
      "WARNING:art.attacks.extraction.copycat_cnn:The size of the source input is smaller than the expected number of queries submitted to the victim classifier.\n"
     ]
    },
    {
     "name": "stdout",
     "output_type": "stream",
     "text": [
      "Train on 400 samples\n",
      "Epoch 1/5\n",
      "400/400 [==============================] - 2s 6ms/sample - loss: 1.0483 - accuracy: 0.4600\n",
      "Epoch 2/5\n",
      "400/400 [==============================] - 2s 5ms/sample - loss: 0.4679 - accuracy: 0.8775\n",
      "Epoch 3/5\n",
      "400/400 [==============================] - 2s 5ms/sample - loss: 0.3184 - accuracy: 0.8925\n",
      "Epoch 4/5\n",
      "400/400 [==============================] - 3s 6ms/sample - loss: 0.1764 - accuracy: 0.9550\n",
      "Epoch 5/5\n",
      "400/400 [==============================] - 2s 6ms/sample - loss: 0.1495 - accuracy: 0.9400\n",
      "Argmax CopycatCNN (vs. Protected) : 0.95236844\n"
     ]
    },
    {
     "name": "stderr",
     "output_type": "stream",
     "text": [
      "WARNING:art.attacks.extraction.knockoff_nets:This attack with random sampling strategy does not use the provided label y.\n",
      "WARNING:art.attacks.extraction.knockoff_nets:The size of the source input is smaller than the expected number of queries submitted to the victim classifier.\n"
     ]
    },
    {
     "name": "stdout",
     "output_type": "stream",
     "text": [
      "Probabilistic KnockoffNets (vs. Protected) : 0.76894736\n"
     ]
    },
    {
     "name": "stderr",
     "output_type": "stream",
     "text": [
      "WARNING:art.attacks.extraction.knockoff_nets:This attack with random sampling strategy does not use the provided label y.\n",
      "WARNING:art.attacks.extraction.knockoff_nets:The size of the source input is smaller than the expected number of queries submitted to the victim classifier.\n"
     ]
    },
    {
     "name": "stdout",
     "output_type": "stream",
     "text": [
      "Argmax KnockoffNets (vs. Protected) : 0.9555263\n"
     ]
    },
    {
     "name": "stderr",
     "output_type": "stream",
     "text": [
      "WARNING:art.attacks.extraction.copycat_cnn:This attack does not use the provided label y.\n",
      "WARNING:art.attacks.extraction.copycat_cnn:The size of the source input is smaller than the expected number of queries submitted to the victim classifier.\n"
     ]
    },
    {
     "name": "stdout",
     "output_type": "stream",
     "text": [
      "Train on 800 samples\n",
      "Epoch 1/5\n",
      "800/800 [==============================] - 5s 6ms/sample - loss: 1.1379 - accuracy: 0.3500\n",
      "Epoch 2/5\n",
      "800/800 [==============================] - 5s 6ms/sample - loss: 1.0792 - accuracy: 0.4412\n",
      "Epoch 3/5\n",
      "800/800 [==============================] - 6s 7ms/sample - loss: 1.0629 - accuracy: 0.7050\n",
      "Epoch 4/5\n",
      "800/800 [==============================] - 5s 7ms/sample - loss: 1.0604 - accuracy: 0.7287\n",
      "Epoch 5/5\n",
      "800/800 [==============================] - 4s 5ms/sample - loss: 1.0589 - accuracy: 0.8475\n",
      "Probabilistic CopycatCNN (vs. Protected) : 0.795\n"
     ]
    },
    {
     "name": "stderr",
     "output_type": "stream",
     "text": [
      "WARNING:art.attacks.extraction.copycat_cnn:This attack does not use the provided label y.\n",
      "WARNING:art.attacks.extraction.copycat_cnn:The size of the source input is smaller than the expected number of queries submitted to the victim classifier.\n"
     ]
    },
    {
     "name": "stdout",
     "output_type": "stream",
     "text": [
      "Train on 800 samples\n",
      "Epoch 1/5\n",
      "800/800 [==============================] - 5s 7ms/sample - loss: 0.9527 - accuracy: 0.6012\n",
      "Epoch 2/5\n",
      "800/800 [==============================] - 5s 6ms/sample - loss: 0.2049 - accuracy: 0.9225\n",
      "Epoch 3/5\n",
      "800/800 [==============================] - 4s 6ms/sample - loss: 0.1183 - accuracy: 0.9663\n",
      "Epoch 4/5\n",
      "800/800 [==============================] - 4s 5ms/sample - loss: 0.1069 - accuracy: 0.9675\n",
      "Epoch 5/5\n",
      "800/800 [==============================] - 4s 5ms/sample - loss: 0.0900 - accuracy: 0.9737\n",
      "Argmax CopycatCNN (vs. Protected) : 0.94911766\n"
     ]
    },
    {
     "name": "stderr",
     "output_type": "stream",
     "text": [
      "WARNING:art.attacks.extraction.knockoff_nets:This attack with random sampling strategy does not use the provided label y.\n",
      "WARNING:art.attacks.extraction.knockoff_nets:The size of the source input is smaller than the expected number of queries submitted to the victim classifier.\n"
     ]
    },
    {
     "name": "stdout",
     "output_type": "stream",
     "text": [
      "Probabilistic KnockoffNets (vs. Protected) : 0.8414706\n"
     ]
    },
    {
     "name": "stderr",
     "output_type": "stream",
     "text": [
      "WARNING:art.attacks.extraction.knockoff_nets:This attack with random sampling strategy does not use the provided label y.\n",
      "WARNING:art.attacks.extraction.knockoff_nets:The size of the source input is smaller than the expected number of queries submitted to the victim classifier.\n"
     ]
    },
    {
     "name": "stdout",
     "output_type": "stream",
     "text": [
      "Argmax KnockoffNets (vs. Protected) : 0.97117645\n"
     ]
    },
    {
     "name": "stderr",
     "output_type": "stream",
     "text": [
      "WARNING:art.attacks.extraction.copycat_cnn:This attack does not use the provided label y.\n"
     ]
    },
    {
     "name": "stdout",
     "output_type": "stream",
     "text": [
      "Train on 1000 samples\n",
      "Epoch 1/5\n",
      "1000/1000 [==============================] - 6s 6ms/sample - loss: 1.1444 - accuracy: 0.3570\n",
      "Epoch 2/5\n",
      "1000/1000 [==============================] - 6s 6ms/sample - loss: 1.0700 - accuracy: 0.5860\n",
      "Epoch 3/5\n",
      "1000/1000 [==============================] - 7s 7ms/sample - loss: 1.0612 - accuracy: 0.7510\n",
      "Epoch 4/5\n",
      "1000/1000 [==============================] - 6s 6ms/sample - loss: 1.0595 - accuracy: 0.8390\n",
      "Epoch 5/5\n",
      "1000/1000 [==============================] - 5s 5ms/sample - loss: 1.0587 - accuracy: 0.9170\n",
      "Probabilistic CopycatCNN (vs. Protected) : 0.8234375\n"
     ]
    },
    {
     "name": "stderr",
     "output_type": "stream",
     "text": [
      "WARNING:art.attacks.extraction.copycat_cnn:This attack does not use the provided label y.\n"
     ]
    },
    {
     "name": "stdout",
     "output_type": "stream",
     "text": [
      "Train on 1000 samples\n",
      "Epoch 1/5\n",
      "1000/1000 [==============================] - 11s 11ms/sample - loss: 0.4539 - accuracy: 0.8240\n",
      "Epoch 2/5\n",
      "1000/1000 [==============================] - 6s 6ms/sample - loss: 0.1531 - accuracy: 0.9530\n",
      "Epoch 3/5\n",
      "1000/1000 [==============================] - 6s 6ms/sample - loss: 0.0938 - accuracy: 0.9670\n",
      "Epoch 4/5\n",
      "1000/1000 [==============================] - 5s 5ms/sample - loss: 0.0522 - accuracy: 0.9810\n",
      "Epoch 5/5\n",
      "1000/1000 [==============================] - 5s 5ms/sample - loss: 0.0293 - accuracy: 0.9910\n",
      "Argmax CopycatCNN (vs. Protected) : 0.98875\n"
     ]
    },
    {
     "name": "stderr",
     "output_type": "stream",
     "text": [
      "WARNING:art.attacks.extraction.knockoff_nets:This attack with random sampling strategy does not use the provided label y.\n"
     ]
    },
    {
     "name": "stdout",
     "output_type": "stream",
     "text": [
      "Probabilistic KnockoffNets (vs. Protected) : 0.919375\n"
     ]
    },
    {
     "name": "stderr",
     "output_type": "stream",
     "text": [
      "WARNING:art.attacks.extraction.knockoff_nets:This attack with random sampling strategy does not use the provided label y.\n"
     ]
    },
    {
     "name": "stdout",
     "output_type": "stream",
     "text": [
      "Argmax KnockoffNets (vs. Protected) : 0.963125\n",
      "CPU times: user 29min 36s, sys: 5min 30s, total: 35min 6s\n",
      "Wall time: 9min 49s\n"
     ]
    }
   ],
   "source": [
    "%%time\n",
    "# Stealing from the protected classifier.\n",
    "\n",
    "attack_catalogue = {\n",
    "                    \"Probabilistic CopycatCNN (vs. Protected)\": CopycatCNN(classifier=classifier_protected,\n",
    "                                              batch_size_fit=64,\n",
    "                                              batch_size_query=64,\n",
    "                                              nb_epochs=num_epochs,\n",
    "                                              nb_stolen=len_steal,\n",
    "                                              use_probability=True),\n",
    "                    \"Argmax CopycatCNN (vs. Protected)\": CopycatCNN(classifier=classifier_protected,\n",
    "                                              batch_size_fit=64,\n",
    "                                              batch_size_query=64,\n",
    "                                              nb_epochs=num_epochs,\n",
    "                                              nb_stolen=len_steal,\n",
    "                                              use_probability=False),\n",
    "                    \"Probabilistic KnockoffNets (vs. Protected)\": KnockoffNets(classifier=classifier_protected,\n",
    "                                              batch_size_fit=64,\n",
    "                                              batch_size_query=64,\n",
    "                                              nb_epochs=num_epochs,\n",
    "                                              nb_stolen=len_steal,\n",
    "                                              use_probability=True),\n",
    "                    \"Argmax KnockoffNets (vs. Protected)\": KnockoffNets(classifier=classifier_protected,\n",
    "                                              batch_size_fit=64,\n",
    "                                              batch_size_query=64,\n",
    "                                              nb_epochs=num_epochs,\n",
    "                                              nb_stolen=len_steal,\n",
    "                                              use_probability=False),\n",
    "#                     \"FunctionallyEquivalentExtraction\": FunctionallyEquivalentExtraction(classifier=classifier_flat_protected,\n",
    "#                                               num_neurons=128),  # This one takes too long time for this dataset/model.\n",
    "                    }\n",
    "\n",
    "results_protected = []\n",
    "for len_steal in [50, 100, 200, 400, 800, 1000]:\n",
    "    indices = np.random.permutation(len(x_test0))\n",
    "    x_steal = x_test0[indices[:len_steal]]\n",
    "    y_steal = y_test0[indices[:len_steal]]\n",
    "    x_test = x_test0[indices[len_steal:]]\n",
    "    y_test = y_test0[indices[len_steal:]]\n",
    "\n",
    "    for name, attack in attack_catalogue.items():\n",
    "        model_stolen = get_model()\n",
    "        classifier_stolen = KerasClassifier(model_stolen, clip_values=(0, 1), use_logits=False)\n",
    "        if name==\"FunctionallyEquivalentExtraction\":\n",
    "            classifier_stolen = attack.extract(np.reshape(x_steal, [len(x_steal), -1]), y_steal, thieved_classifier=classifier_stolen)\n",
    "        else:\n",
    "            classifier_stolen = attack.extract(x_steal, y_steal, thieved_classifier=classifier_stolen)\n",
    "        \n",
    "        acc = classifier_stolen._model.evaluate(x_test, y_test)[1]\n",
    "        print(name, \":\", acc)\n",
    "        results_protected.append((name, len_steal, acc))\n"
   ]
  },
  {
   "cell_type": "markdown",
   "metadata": {},
   "source": [
    "### Evaluate Attacked Protected Classifier"
   ]
  },
  {
   "cell_type": "code",
   "execution_count": 27,
   "metadata": {},
   "outputs": [
    {
     "data": {
      "image/png": "[encoded data removed]",
      "text/plain": [
       "<Figure size 576x432 with 1 Axes>"
      ]
     },
     "metadata": {
      "needs_background": "light"
     },
     "output_type": "display_data"
    },
    {
     "name": "stdout",
     "output_type": "stream",
     "text": [
      "CPU times: user 311 ms, sys: 142 ms, total: 454 ms\n",
      "Wall time: 378 ms\n"
     ]
    }
   ],
   "source": [
    "%%time\n",
    "df_protected = pd.DataFrame(results_protected, columns=('Method Name', 'Stealing Dataset Size', 'Accuracy'))\n",
    "fig, ax = plt.subplots(figsize=(8,6))\n",
    "ax.set_xlabel(\"Stealing Dataset Size\")\n",
    "ax.set_ylabel(\"Stolen Model Accuracy\")\n",
    "for name, group in df_protected.groupby(\"Method Name\"):\n",
    "    group.plot(1, 2, ax=ax, label=name)\n",
    "plt.show()"
   ]
  },
  {
   "cell_type": "code",
   "execution_count": 28,
   "metadata": {},
   "outputs": [],
   "source": [
    "df_combined = pd.concat([df, df_protected])\n",
    "groupby = df_combined.groupby(\"Method Name\")"
   ]
  },
  {
   "cell_type": "code",
   "execution_count": 29,
   "metadata": {},
   "outputs": [
    {
     "name": "stderr",
     "output_type": "stream",
     "text": [
      "Matplotlib is currently using module://matplotlib_inline.backend_inline, which is a non-GUI backend, so cannot show the figure.\n",
      "Matplotlib is currently using module://matplotlib_inline.backend_inline, which is a non-GUI backend, so cannot show the figure.\n"
     ]
    },
    {
     "data": {
      "image/png": "[encoded data removed]",
      "text/plain": [
       "<Figure size 576x432 with 1 Axes>"
      ]
     },
     "metadata": {
      "needs_background": "light"
     },
     "output_type": "display_data"
    },
    {
     "data": {
      "image/png": "[encoded data removed]",
      "text/plain": [
       "<Figure size 576x432 with 1 Axes>"
      ]
     },
     "metadata": {
      "needs_background": "light"
     },
     "output_type": "display_data"
    }
   ],
   "source": [
    "names = [\"CopycatCNN\", \"KnockoffNets\"]\n",
    "for name in names:\n",
    "    fig, ax = plt.subplots(figsize=(8,6))\n",
    "    groupby.get_group(\"Probabilistic \" + name).plot(1,2,ax=ax, label=\"Probabilistic \" + name)\n",
    "    groupby.get_group(\"Probabilistic \" + name + \" (vs. Protected)\").plot(1,2,ax=ax, label=\"Probabilistic \" + name + \" (vs. Protected)\")\n",
    "    ax.set_xlabel(\"Stealing Dataset Size\")\n",
    "    ax.set_ylabel(\"Stolen Model Accuracy\")\n",
    "    fig.show()"
   ]
  },
  {
   "cell_type": "raw",
   "metadata": {},
   "source": [
    "# Next Step: Using data augmentation can make the model stealing process much easier and faster, and can make the probabilistic attack much better."
   ]
  },
  {
   "cell_type": "markdown",
   "metadata": {},
   "source": [
    "## Read More"
   ]
  },
  {
   "cell_type": "markdown",
   "metadata": {},
   "source": [
    "- [Correia-Silva, J.R., Berriel, R., Badue, C.S., Souza, A.F., & Oliveira-Santos, T. (2018). Copycat CNN: Stealing Knowledge by Persuading Confession with Random Non-Labeled Data. 2018 International Joint Conference on Neural Networks (IJCNN), 1-8.](https://arxiv.org/pdf/1806.05476.pdf)\n",
    "- [Orekondy, T., Schiele, B., & Fritz, M. (2019). Knockoff Nets: Stealing Functionality of Black-Box Models. 2019 IEEE/CVF Conference on Computer Vision and Pattern Recognition (CVPR), 4949-4958.](https://arxiv.org/pdf/1812.02766.pdf)\n",
    "- [Lee, T., Edwards, B., Molloy, I., & Su, D. (2018). Defending Against Machine Learning Model Stealing Attacks Using Deceptive Perturbations. arXiv: Learning.](https://arxiv.org/pdf/1806.00054.pdf)\n",
    "- [Jagielski, M., Carlini, N., Berthelot, D., Kurakin, A., & Papernot, N. (2020). High Accuracy and High Fidelity Extraction of Neural Networks. USENIX Security Symposium.](https://arxiv.org/pdf/1909.01838.pdf)"
   ]
  }
 ],
 "metadata": {
  "kernelspec": {
   "display_name": "Python 3 (ipykernel)",
   "language": "python",
   "name": "python3"
  },
  "language_info": {
   "codemirror_mode": {
    "name": "ipython",
    "version": 3
   },
   "file_extension": ".py",
   "mimetype": "text/x-python",
   "name": "python",
   "nbconvert_exporter": "python",
   "pygments_lexer": "ipython3",
   "version": "3.7.12"
  }
 },
 "nbformat": 4,
 "nbformat_minor": 4
}
