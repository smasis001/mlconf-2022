{
 "cells": [
  {
   "cell_type": "markdown",
   "metadata": {},
   "source": [
    "# Neural Network Extraction\n",
    "### _Adversarial Robustness_ Workshop for ML Conference 2022 \n",
    "#### (scheduled for December 1st, 2022 1:30 PM CEST)"
   ]
  },
  {
   "cell_type": "markdown",
   "metadata": {},
   "source": [
    "This notebook will walk through:\n",
    "\n"
   ]
  },
  {
   "cell_type": "markdown",
   "metadata": {},
   "source": [
    "- Model Stealing Demo (updated from [here](https://github.com/Trusted-AI/adversarial-robustness-toolbox/blob/main/notebooks/model-stealing-demo.ipynb))"
   ]
  },
  {
   "cell_type": "markdown",
   "metadata": {
    "tags": []
   },
   "source": [
    "## The Preparations"
   ]
  },
  {
   "cell_type": "markdown",
   "metadata": {
    "tags": []
   },
   "source": [
    "### Installing the Libraries"
   ]
  },
  {
   "cell_type": "code",
   "execution_count": null,
   "metadata": {},
   "outputs": [],
   "source": [
    "!pip install --upgrade numpy scikit-learn tensorflow matplotlib seaborn\n",
    "!pip install --upgrade machine-learning-datasets\n",
    "!pip install adversarial-robustness-toolbox==1.12.2"
   ]
  },
  {
   "cell_type": "markdown",
   "metadata": {
    "tags": []
   },
   "source": [
    "### Loading the Libraries"
   ]
  },
  {
   "cell_type": "code",
   "execution_count": 4,
   "metadata": {
    "scrolled": true
   },
   "outputs": [
    {
     "name": "stdout",
     "output_type": "stream",
     "text": [
      "CPU times: user 641 µs, sys: 30 µs, total: 671 µs\n",
      "Wall time: 681 µs\n"
     ]
    }
   ],
   "source": [
    "%%time\n",
    "import math\n",
    "import art\n",
    "import numpy as np\n",
    "import matplotlib.pyplot as plt\n",
    "import pandas as pd\n",
    "%matplotlib inline\n",
    "\n",
    "import tensorflow as tf\n",
    "\n",
    "from art.estimators.classification import KerasClassifier\n",
    "from art.attacks import ExtractionAttack\n",
    "from art.attacks.extraction import CopycatCNN, KnockoffNets\n",
    "from art.defences.postprocessor import ReverseSigmoid"
   ]
  },
  {
   "cell_type": "markdown",
   "metadata": {},
   "source": [
    "We should also disable eager execution and verify that it worked with the following commands. The output should say that it's `False`:"
   ]
  },
  {
   "cell_type": "code",
   "execution_count": 5,
   "metadata": {},
   "outputs": [
    {
     "name": "stdout",
     "output_type": "stream",
     "text": [
      "Eager execution enabled:  False\n"
     ]
    }
   ],
   "source": [
    "tf.compat.v1.disable_eager_execution()\n",
    "print('Eager execution enabled: ', tf.executing_eagerly()) "
   ]
  },
  {
   "cell_type": "markdown",
   "metadata": {
    "tags": []
   },
   "source": [
    "### Understanding and Preparing the Data"
   ]
  },
  {
   "cell_type": "code",
   "execution_count": 6,
   "metadata": {},
   "outputs": [],
   "source": [
    "# Prepare the dataset and the model architecture.\n",
    "from art.utils import load_mnist\n",
    "\n",
    "# Load the dataset, and split the test data into test and steal datasets.\n",
    "(x_train, y_train), (x_test0, y_test0), _, _ = load_mnist()\n",
    "len_steal = 5000\n",
    "indices = np.random.permutation(len(x_test0))\n",
    "x_steal = x_test0[indices[:len_steal]]\n",
    "y_steal = y_test0[indices[:len_steal]]\n",
    "x_test = x_test0[indices[len_steal:]]\n",
    "y_test = y_test0[indices[len_steal:]]"
   ]
  },
  {
   "cell_type": "markdown",
   "metadata": {
    "tags": []
   },
   "source": [
    "### Create Base Model"
   ]
  },
  {
   "cell_type": "code",
   "execution_count": 7,
   "metadata": {},
   "outputs": [],
   "source": [
    "im_shape = x_train[0].shape\n",
    "\n",
    "def get_model(num_classes=10, c1=32, c2=64, d1=128):\n",
    "    model = tf.keras.models.Sequential()\n",
    "    model.add(tf.keras.layers.Conv2D(c1, kernel_size=(3, 3), activation='relu', input_shape=im_shape))\n",
    "    model.add(tf.keras.layers.Conv2D(c2, (3, 3), activation='relu'))\n",
    "    model.add(tf.keras.layers.MaxPooling2D(pool_size=(2, 2)))\n",
    "    model.add(tf.keras.layers.Flatten())\n",
    "    model.add(tf.keras.layers.Dense(d1, activation='relu'))\n",
    "    model.add(tf.keras.layers.Dense(num_classes, activation='softmax'))\n",
    "    model.compile(loss='categorical_crossentropy', optimizer=\"sgd\",\n",
    "                          metrics=['accuracy'])\n",
    "    return model"
   ]
  },
  {
   "cell_type": "markdown",
   "metadata": {},
   "source": [
    "### Train Base Model"
   ]
  },
  {
   "cell_type": "code",
   "execution_count": 8,
   "metadata": {},
   "outputs": [
    {
     "name": "stdout",
     "output_type": "stream",
     "text": [
      "Original model training:\n",
      "Train on 60000 samples\n",
      "Epoch 1/5\n"
     ]
    },
    {
     "name": "stderr",
     "output_type": "stream",
     "text": [
      "2022-12-01 02:42:08.938906: I tensorflow/core/platform/cpu_feature_guard.cc:142] This TensorFlow binary is optimized with oneAPI Deep Neural Network Library (oneDNN) to use the following CPU instructions in performance-critical operations:  AVX2 FMA\n",
      "To enable them in other operations, rebuild TensorFlow with the appropriate compiler flags.\n"
     ]
    },
    {
     "name": "stdout",
     "output_type": "stream",
     "text": [
      "60000/60000 [==============================] - 76s 1ms/sample - loss: 0.6698 - accuracy: 0.8178\n",
      "Epoch 2/5\n",
      "60000/60000 [==============================] - 82s 1ms/sample - loss: 0.2479 - accuracy: 0.9253\n",
      "Epoch 3/5\n",
      "60000/60000 [==============================] - 76s 1ms/sample - loss: 0.1876 - accuracy: 0.9436\n",
      "Epoch 4/5\n",
      "60000/60000 [==============================] - 80s 1ms/sample - loss: 0.1530 - accuracy: 0.9544\n",
      "Epoch 5/5\n",
      "60000/60000 [==============================] - 78s 1ms/sample - loss: 0.1291 - accuracy: 0.9614\n",
      "Original model evaluation:\n"
     ]
    },
    {
     "name": "stderr",
     "output_type": "stream",
     "text": [
      "/Users/serg/opt/anaconda3/lib/python3.7/site-packages/tensorflow/python/keras/engine/training.py:2424: UserWarning: `Model.state_updates` will be removed in a future version. This property should not be used in TensorFlow 2.0, as `updates` are applied automatically.\n",
      "  warnings.warn('`Model.state_updates` will be removed in a future version. '\n"
     ]
    },
    {
     "name": "stdout",
     "output_type": "stream",
     "text": [
      "[0.1286256356716156, 0.9612]\n"
     ]
    }
   ],
   "source": [
    "# Train the original model.\n",
    "num_epochs = 5\n",
    "model = get_model(num_classes=10, c1=32, c2=64, d1=128)\n",
    "print(\"Original model training:\")\n",
    "model.fit(x_train, y_train, batch_size=100, epochs=num_epochs)\n",
    "print(\"Original model evaluation:\")\n",
    "print(model.evaluate(x_test, y_test))\n",
    "classifier_original = KerasClassifier(model, clip_values=(0, 1), use_logits=False)"
   ]
  },
  {
   "cell_type": "markdown",
   "metadata": {},
   "source": [
    "## Stealing\n",
    "### Stealing from the unprotected classifier"
   ]
  },
  {
   "cell_type": "code",
   "execution_count": 9,
   "metadata": {},
   "outputs": [
    {
     "name": "stdout",
     "output_type": "stream",
     "text": [
      "Train on 250 samples\n",
      "Epoch 1/5\n",
      "250/250 [==============================] - 0s 2ms/sample - loss: 2.3119 - accuracy: 0.0600\n",
      "Epoch 2/5\n",
      "250/250 [==============================] - 0s 1ms/sample - loss: 2.2969 - accuracy: 0.0840\n",
      "Epoch 3/5\n",
      "250/250 [==============================] - 0s 1ms/sample - loss: 2.2825 - accuracy: 0.1520\n",
      "Epoch 4/5\n",
      "250/250 [==============================] - 0s 1ms/sample - loss: 2.2690 - accuracy: 0.2760\n",
      "Epoch 5/5\n",
      "250/250 [==============================] - 0s 1ms/sample - loss: 2.2547 - accuracy: 0.3320\n",
      "Probabilistic CopycatCNN : 0.34\n",
      "Train on 250 samples\n",
      "Epoch 1/5\n",
      "250/250 [==============================] - 0s 1ms/sample - loss: 2.3016 - accuracy: 0.1040\n",
      "Epoch 2/5\n",
      "250/250 [==============================] - 0s 1ms/sample - loss: 2.2879 - accuracy: 0.1240\n",
      "Epoch 3/5\n",
      "250/250 [==============================] - 0s 2ms/sample - loss: 2.2748 - accuracy: 0.2000\n",
      "Epoch 4/5\n",
      "250/250 [==============================] - 0s 1ms/sample - loss: 2.2616 - accuracy: 0.2720\n",
      "Epoch 5/5\n",
      "250/250 [==============================] - 0s 1ms/sample - loss: 2.2485 - accuracy: 0.3200\n",
      "Argmax CopycatCNN : 0.33210257\n",
      "Probabilistic KnockoffNets : 0.38666666\n",
      "Argmax KnockoffNets : 0.32482052\n",
      "Train on 500 samples\n",
      "Epoch 1/5\n",
      "500/500 [==============================] - 1s 1ms/sample - loss: 2.2840 - accuracy: 0.1020\n",
      "Epoch 2/5\n",
      "500/500 [==============================] - 1s 1ms/sample - loss: 2.2514 - accuracy: 0.1200\n",
      "Epoch 3/5\n",
      "500/500 [==============================] - 1s 1ms/sample - loss: 2.2171 - accuracy: 0.1940\n",
      "Epoch 4/5\n",
      "500/500 [==============================] - 1s 1ms/sample - loss: 2.1775 - accuracy: 0.3260\n",
      "Epoch 5/5\n",
      "500/500 [==============================] - 1s 1ms/sample - loss: 2.1272 - accuracy: 0.3900\n",
      "Probabilistic CopycatCNN : 0.41578948\n",
      "Train on 500 samples\n",
      "Epoch 1/5\n",
      "500/500 [==============================] - 1s 1ms/sample - loss: 2.2950 - accuracy: 0.1420\n",
      "Epoch 2/5\n",
      "500/500 [==============================] - 1s 1ms/sample - loss: 2.2700 - accuracy: 0.2300\n",
      "Epoch 3/5\n",
      "500/500 [==============================] - 1s 1ms/sample - loss: 2.2424 - accuracy: 0.3120\n",
      "Epoch 4/5\n",
      "500/500 [==============================] - 1s 1ms/sample - loss: 2.2097 - accuracy: 0.3440\n",
      "Epoch 5/5\n",
      "500/500 [==============================] - 1s 1ms/sample - loss: 2.1697 - accuracy: 0.4420\n",
      "Argmax CopycatCNN : 0.41136843\n",
      "Probabilistic KnockoffNets : 0.5417895\n",
      "Argmax KnockoffNets : 0.54210526\n",
      "Train on 1000 samples\n",
      "Epoch 1/5\n",
      "1000/1000 [==============================] - 1s 1ms/sample - loss: 2.2526 - accuracy: 0.2540\n",
      "Epoch 2/5\n",
      "1000/1000 [==============================] - 1s 1ms/sample - loss: 2.0931 - accuracy: 0.4910\n",
      "Epoch 3/5\n",
      "1000/1000 [==============================] - 1s 1ms/sample - loss: 1.8414 - accuracy: 0.6220\n",
      "Epoch 4/5\n",
      "1000/1000 [==============================] - 1s 1ms/sample - loss: 1.4202 - accuracy: 0.7300\n",
      "Epoch 5/5\n",
      "1000/1000 [==============================] - 1s 1ms/sample - loss: 0.9872 - accuracy: 0.8010\n",
      "Probabilistic CopycatCNN : 0.77844447\n",
      "Train on 1000 samples\n",
      "Epoch 1/5\n",
      "1000/1000 [==============================] - 1s 1ms/sample - loss: 2.2844 - accuracy: 0.1610\n",
      "Epoch 2/5\n",
      "1000/1000 [==============================] - 1s 1ms/sample - loss: 2.2440 - accuracy: 0.3160\n",
      "Epoch 3/5\n",
      "1000/1000 [==============================] - 1s 1ms/sample - loss: 2.1909 - accuracy: 0.3850\n",
      "Epoch 4/5\n",
      "1000/1000 [==============================] - 2s 2ms/sample - loss: 2.1050 - accuracy: 0.4750\n",
      "Epoch 5/5\n",
      "1000/1000 [==============================] - 2s 2ms/sample - loss: 1.9545 - accuracy: 0.5380\n",
      "Argmax CopycatCNN : 0.5872222\n",
      "Probabilistic KnockoffNets : 0.646\n",
      "Argmax KnockoffNets : 0.5135555\n",
      "Train on 2000 samples\n",
      "Epoch 1/5\n",
      "2000/2000 [==============================] - 2s 1ms/sample - loss: 2.2782 - accuracy: 0.1210\n",
      "Epoch 2/5\n",
      "2000/2000 [==============================] - 2s 1ms/sample - loss: 2.2110 - accuracy: 0.2260\n",
      "Epoch 3/5\n",
      "2000/2000 [==============================] - 2s 1ms/sample - loss: 2.0266 - accuracy: 0.4435\n",
      "Epoch 4/5\n",
      "2000/2000 [==============================] - 3s 2ms/sample - loss: 1.4426 - accuracy: 0.7240\n",
      "Epoch 5/5\n",
      "2000/2000 [==============================] - 4s 2ms/sample - loss: 0.7756 - accuracy: 0.8410\n",
      "Probabilistic CopycatCNN : 0.840375\n",
      "Train on 2000 samples\n",
      "Epoch 1/5\n",
      "2000/2000 [==============================] - 2s 1ms/sample - loss: 2.2389 - accuracy: 0.2930\n",
      "Epoch 2/5\n",
      "2000/2000 [==============================] - 2s 1ms/sample - loss: 1.9966 - accuracy: 0.5060\n",
      "Epoch 3/5\n",
      "2000/2000 [==============================] - 2s 994us/sample - loss: 1.3384 - accuracy: 0.7020\n",
      "Epoch 4/5\n",
      "2000/2000 [==============================] - 2s 1ms/sample - loss: 0.7147 - accuracy: 0.8235\n",
      "Epoch 5/5\n",
      "2000/2000 [==============================] - 3s 1ms/sample - loss: 0.4907 - accuracy: 0.8625\n",
      "Argmax CopycatCNN : 0.8545\n",
      "Probabilistic KnockoffNets : 0.812125\n",
      "Argmax KnockoffNets : 0.78525\n",
      "Train on 4000 samples\n",
      "Epoch 1/5\n",
      "4000/4000 [==============================] - 5s 1ms/sample - loss: 2.1840 - accuracy: 0.3428\n",
      "Epoch 2/5\n",
      "4000/4000 [==============================] - 6s 1ms/sample - loss: 1.2906 - accuracy: 0.7505\n",
      "Epoch 3/5\n",
      "4000/4000 [==============================] - 5s 1ms/sample - loss: 0.5255 - accuracy: 0.8630\n",
      "Epoch 4/5\n",
      "4000/4000 [==============================] - 5s 1ms/sample - loss: 0.3968 - accuracy: 0.9025\n",
      "Epoch 5/5\n",
      "4000/4000 [==============================] - 4s 1ms/sample - loss: 0.3533 - accuracy: 0.9090\n",
      "Probabilistic CopycatCNN : 0.89533335\n",
      "Train on 4000 samples\n",
      "Epoch 1/5\n",
      "4000/4000 [==============================] - 5s 1ms/sample - loss: 2.1980 - accuracy: 0.3697\n",
      "Epoch 2/5\n",
      "4000/4000 [==============================] - 5s 1ms/sample - loss: 1.2912 - accuracy: 0.7000\n",
      "Epoch 3/5\n",
      "4000/4000 [==============================] - 6s 1ms/sample - loss: 0.4940 - accuracy: 0.8555\n",
      "Epoch 4/5\n",
      "4000/4000 [==============================] - 6s 1ms/sample - loss: 0.3494 - accuracy: 0.8920\n",
      "Epoch 5/5\n",
      "4000/4000 [==============================] - 6s 1ms/sample - loss: 0.2935 - accuracy: 0.9085\n",
      "Argmax CopycatCNN : 0.86\n",
      "Probabilistic KnockoffNets : 0.8865\n",
      "Argmax KnockoffNets : 0.8068333\n",
      "Train on 5000 samples\n",
      "Epoch 1/5\n",
      "5000/5000 [==============================] - 7s 1ms/sample - loss: 2.2098 - accuracy: 0.3592\n",
      "Epoch 2/5\n",
      "5000/5000 [==============================] - 6s 1ms/sample - loss: 1.2302 - accuracy: 0.7570\n",
      "Epoch 3/5\n",
      "5000/5000 [==============================] - 6s 1ms/sample - loss: 0.4889 - accuracy: 0.8706\n",
      "Epoch 4/5\n",
      "5000/5000 [==============================] - 6s 1ms/sample - loss: 0.3855 - accuracy: 0.9032\n",
      "Epoch 5/5\n",
      "5000/5000 [==============================] - 5s 1ms/sample - loss: 0.3429 - accuracy: 0.9166\n",
      "Probabilistic CopycatCNN : 0.8812\n",
      "Train on 5000 samples\n",
      "Epoch 1/5\n",
      "5000/5000 [==============================] - 7s 1ms/sample - loss: 1.9348 - accuracy: 0.5170\n",
      "Epoch 2/5\n",
      "5000/5000 [==============================] - 6s 1ms/sample - loss: 0.6417 - accuracy: 0.8296\n",
      "Epoch 3/5\n",
      "5000/5000 [==============================] - 6s 1ms/sample - loss: 0.3775 - accuracy: 0.8844\n",
      "Epoch 4/5\n",
      "5000/5000 [==============================] - 6s 1ms/sample - loss: 0.3096 - accuracy: 0.8984\n",
      "Epoch 5/5\n",
      "5000/5000 [==============================] - 6s 1ms/sample - loss: 0.2515 - accuracy: 0.9170\n",
      "Argmax CopycatCNN : 0.7456\n",
      "Probabilistic KnockoffNets : 0.9056\n",
      "Argmax KnockoffNets : 0.903\n"
     ]
    }
   ],
   "source": [
    "# Stealing from the unprotected classifier.\n",
    "\n",
    "attack_catalogue = {\"Probabilistic CopycatCNN\": CopycatCNN(classifier=classifier_original,\n",
    "                                              batch_size_fit=64,\n",
    "                                              batch_size_query=64,\n",
    "                                              nb_epochs=num_epochs,\n",
    "                                              nb_stolen=len_steal,\n",
    "                                              use_probability=True),\n",
    "                    \"Argmax CopycatCNN\": CopycatCNN(classifier=classifier_original,\n",
    "                                              batch_size_fit=64,\n",
    "                                              batch_size_query=64,\n",
    "                                              nb_epochs=num_epochs,\n",
    "                                              nb_stolen=len_steal,\n",
    "                                              use_probability=False),\n",
    "                    \"Probabilistic KnockoffNets\": KnockoffNets(classifier=classifier_original,\n",
    "                                              batch_size_fit=64,\n",
    "                                              batch_size_query=64,\n",
    "                                              nb_epochs=num_epochs,\n",
    "                                              nb_stolen=len_steal,\n",
    "                                              use_probability=True),\n",
    "                    \"Argmax KnockoffNets\": KnockoffNets(classifier=classifier_original,\n",
    "                                              batch_size_fit=64,\n",
    "                                              batch_size_query=64,\n",
    "                                              nb_epochs=num_epochs,\n",
    "                                              nb_stolen=len_steal,\n",
    "                                              use_probability=False),\n",
    "                   }\n",
    "\n",
    "results = []\n",
    "for len_steal in [250, 500, 1000, 2000, 4000, 5000]:\n",
    "    indices = np.random.permutation(len(x_test0))\n",
    "    x_steal = x_test0[indices[:len_steal]]\n",
    "    y_steal = y_test0[indices[:len_steal]]\n",
    "    x_test = x_test0[indices[len_steal:]]\n",
    "    y_test = y_test0[indices[len_steal:]]\n",
    "\n",
    "    for name, attack in attack_catalogue.items():\n",
    "        model_stolen = get_model(num_classes=10, c1=32, c2=64, d1=128)\n",
    "        classifier_stolen = KerasClassifier(model_stolen, clip_values=(0, 1), use_logits=False)\n",
    "        classifier_stolen = attack.extract(x_steal, y_steal, thieved_classifier=classifier_stolen)\n",
    "        acc = classifier_stolen._model.evaluate(x_test, y_test)[1]\n",
    "        print(name, \":\", acc)\n",
    "        results.append((name, len_steal, acc))"
   ]
  },
  {
   "cell_type": "markdown",
   "metadata": {},
   "source": [
    "### Evaluate Stolen Models"
   ]
  },
  {
   "cell_type": "code",
   "execution_count": 10,
   "metadata": {},
   "outputs": [
    {
     "data": {
      "image/png": "[encoded data removed]",
      "text/plain": [
       "<Figure size 576x432 with 1 Axes>"
      ]
     },
     "metadata": {
      "needs_background": "light"
     },
     "output_type": "display_data"
    }
   ],
   "source": [
    "df = pd.DataFrame(results, columns=('Method Name', 'Stealing Dataset Size', 'Accuracy'))\n",
    "fig, ax = plt.subplots(figsize=(8,6))\n",
    "ax.set_xlabel(\"Stealing Dataset Size\")\n",
    "ax.set_ylabel(\"Stolen Model Accuracy\")\n",
    "for name, group in df.groupby(\"Method Name\"):\n",
    "    group.plot(1, 2, ax=ax, label=name)\n",
    "plt.show()"
   ]
  },
  {
   "cell_type": "markdown",
   "metadata": {},
   "source": [
    "## Defense\n",
    "### Defend with Reverse Sigmoid"
   ]
  },
  {
   "cell_type": "code",
   "execution_count": 14,
   "metadata": {},
   "outputs": [],
   "source": [
    "# Prepare the defense layer.\n",
    "postprocessor = ReverseSigmoid(beta=1.0, gamma=0.2)\n",
    "classifier_protected = KerasClassifier(model, clip_values=(0, 1), use_logits=False, postprocessing_defences=postprocessor)\n",
    "\n",
    "# Below is used by `FunctionallyEquivalentExtraction`.\n",
    "model_flat = tf.keras.models.Sequential([tf.keras.layers.InputLayer([784]), tf.keras.layers.Reshape([28, 28, 1]), model])\n",
    "model_flat.compile('sgd', 'categorical_crossentropy', ['accuracy'])\n",
    "classifier_flat_protected = KerasClassifier(model_flat, clip_values=(0, 1), use_logits=False, postprocessing_defences=postprocessor)"
   ]
  },
  {
   "cell_type": "markdown",
   "metadata": {},
   "source": [
    "### Attack Protected Classifier"
   ]
  },
  {
   "cell_type": "code",
   "execution_count": 15,
   "metadata": {},
   "outputs": [
    {
     "name": "stdout",
     "output_type": "stream",
     "text": [
      "Train on 250 samples\n",
      "Epoch 1/5\n",
      "250/250 [==============================] - 2s 6ms/sample - loss: 2.3051 - accuracy: 0.0520\n",
      "Epoch 2/5\n",
      "250/250 [==============================] - 1s 2ms/sample - loss: 2.3048 - accuracy: 0.0560\n",
      "Epoch 3/5\n",
      "250/250 [==============================] - 0s 2ms/sample - loss: 2.3045 - accuracy: 0.0560\n",
      "Epoch 4/5\n",
      "250/250 [==============================] - 0s 2ms/sample - loss: 2.3042 - accuracy: 0.0560\n",
      "Epoch 5/5\n",
      "250/250 [==============================] - 0s 2ms/sample - loss: 2.3039 - accuracy: 0.0600\n"
     ]
    },
    {
     "name": "stderr",
     "output_type": "stream",
     "text": [
      "/Users/serg/opt/anaconda3/lib/python3.7/site-packages/tensorflow/python/keras/engine/training.py:2424: UserWarning: `Model.state_updates` will be removed in a future version. This property should not be used in TensorFlow 2.0, as `updates` are applied automatically.\n",
      "  warnings.warn('`Model.state_updates` will be removed in a future version. '\n"
     ]
    },
    {
     "name": "stdout",
     "output_type": "stream",
     "text": [
      "Probabilistic CopycatCNN (vs. Protected) : 0.06605128\n",
      "Train on 250 samples\n",
      "Epoch 1/5\n",
      "250/250 [==============================] - 1s 3ms/sample - loss: 2.3133 - accuracy: 0.0960\n",
      "Epoch 2/5\n",
      "250/250 [==============================] - 0s 2ms/sample - loss: 2.2954 - accuracy: 0.1520\n",
      "Epoch 3/5\n",
      "250/250 [==============================] - 0s 1ms/sample - loss: 2.2768 - accuracy: 0.2080\n",
      "Epoch 4/5\n",
      "250/250 [==============================] - 0s 1ms/sample - loss: 2.2588 - accuracy: 0.2720\n",
      "Epoch 5/5\n",
      "250/250 [==============================] - 0s 1ms/sample - loss: 2.2407 - accuracy: 0.3800\n",
      "Argmax CopycatCNN (vs. Protected) : 0.31507692\n",
      "Probabilistic KnockoffNets (vs. Protected) : 0.08133333\n",
      "Argmax KnockoffNets (vs. Protected) : 0.36\n"
     ]
    },
    {
     "name": "stderr",
     "output_type": "stream",
     "text": [
      "/Users/serg/opt/anaconda3/lib/python3.7/site-packages/art/defences/postprocessor/reverse_sigmoid.py:75: RuntimeWarning: divide by zero encountered in log\n",
      "  perturbation_r = self.beta * (sigmoid(-self.gamma * np.log((1.0 - preds_clipped) / preds_clipped)) - 0.5)\n"
     ]
    },
    {
     "name": "stdout",
     "output_type": "stream",
     "text": [
      "Train on 500 samples\n",
      "Epoch 1/5\n",
      "500/500 [==============================] - 1s 1ms/sample - loss: 2.3041 - accuracy: 0.0760\n",
      "Epoch 2/5\n",
      "500/500 [==============================] - 1s 2ms/sample - loss: 2.3034 - accuracy: 0.0740\n",
      "Epoch 3/5\n",
      "500/500 [==============================] - 1s 1ms/sample - loss: 2.3028 - accuracy: 0.0720\n",
      "Epoch 4/5\n",
      "500/500 [==============================] - 1s 1ms/sample - loss: 2.3024 - accuracy: 0.0700\n",
      "Epoch 5/5\n",
      "500/500 [==============================] - 1s 1ms/sample - loss: 2.3020 - accuracy: 0.0720\n",
      "Probabilistic CopycatCNN (vs. Protected) : 0.10136842\n",
      "Train on 500 samples\n",
      "Epoch 1/5\n",
      "500/500 [==============================] - 1s 2ms/sample - loss: 2.3011 - accuracy: 0.1640\n",
      "Epoch 2/5\n",
      "500/500 [==============================] - 1s 2ms/sample - loss: 2.2798 - accuracy: 0.2200\n",
      "Epoch 3/5\n",
      "500/500 [==============================] - 1s 2ms/sample - loss: 2.2579 - accuracy: 0.2860\n",
      "Epoch 4/5\n",
      "500/500 [==============================] - 1s 1ms/sample - loss: 2.2325 - accuracy: 0.3400\n",
      "Epoch 5/5\n",
      "500/500 [==============================] - 1s 1ms/sample - loss: 2.2026 - accuracy: 0.3740\n",
      "Argmax CopycatCNN (vs. Protected) : 0.4013684\n",
      "Probabilistic KnockoffNets (vs. Protected) : 0.13442105\n",
      "Argmax KnockoffNets (vs. Protected) : 0.47957894\n",
      "Train on 1000 samples\n",
      "Epoch 1/5\n",
      "1000/1000 [==============================] - 1s 1ms/sample - loss: 2.2999 - accuracy: 0.1380\n",
      "Epoch 2/5\n",
      "1000/1000 [==============================] - 1s 1ms/sample - loss: 2.2994 - accuracy: 0.1380\n",
      "Epoch 3/5\n",
      "1000/1000 [==============================] - 1s 949us/sample - loss: 2.2990 - accuracy: 0.1480\n",
      "Epoch 4/5\n",
      "1000/1000 [==============================] - 1s 1ms/sample - loss: 2.2987 - accuracy: 0.1670\n",
      "Epoch 5/5\n",
      "1000/1000 [==============================] - 1s 1ms/sample - loss: 2.2985 - accuracy: 0.1890\n",
      "Probabilistic CopycatCNN (vs. Protected) : 0.16988888\n",
      "Train on 1000 samples\n",
      "Epoch 1/5\n",
      "1000/1000 [==============================] - 1s 1ms/sample - loss: 2.2742 - accuracy: 0.1690\n",
      "Epoch 2/5\n",
      "1000/1000 [==============================] - 1s 1ms/sample - loss: 2.2005 - accuracy: 0.3050\n",
      "Epoch 3/5\n",
      "1000/1000 [==============================] - 1s 1ms/sample - loss: 2.0817 - accuracy: 0.5090\n",
      "Epoch 4/5\n",
      "1000/1000 [==============================] - 1s 1ms/sample - loss: 1.8602 - accuracy: 0.6410\n",
      "Epoch 5/5\n",
      "1000/1000 [==============================] - 2s 2ms/sample - loss: 1.4779 - accuracy: 0.7310\n",
      "Argmax CopycatCNN (vs. Protected) : 0.72833335\n",
      "Probabilistic KnockoffNets (vs. Protected) : 0.13044444\n",
      "Argmax KnockoffNets (vs. Protected) : 0.586\n",
      "Train on 2000 samples\n",
      "Epoch 1/5\n",
      "2000/2000 [==============================] - 3s 2ms/sample - loss: 2.3049 - accuracy: 0.1015\n",
      "Epoch 2/5\n",
      "2000/2000 [==============================] - 3s 1ms/sample - loss: 2.3018 - accuracy: 0.1355\n",
      "Epoch 3/5\n",
      "2000/2000 [==============================] - 4s 2ms/sample - loss: 2.3006 - accuracy: 0.1665\n",
      "Epoch 4/5\n",
      "2000/2000 [==============================] - 3s 1ms/sample - loss: 2.3000 - accuracy: 0.1890\n",
      "Epoch 5/5\n",
      "2000/2000 [==============================] - 2s 1ms/sample - loss: 2.2995 - accuracy: 0.2065\n",
      "Probabilistic CopycatCNN (vs. Protected) : 0.20775\n",
      "Train on 2000 samples\n",
      "Epoch 1/5\n",
      "2000/2000 [==============================] - 3s 2ms/sample - loss: 2.2738 - accuracy: 0.1685\n",
      "Epoch 2/5\n",
      "2000/2000 [==============================] - 3s 1ms/sample - loss: 2.1702 - accuracy: 0.3105\n",
      "Epoch 3/5\n",
      "2000/2000 [==============================] - 3s 2ms/sample - loss: 1.8812 - accuracy: 0.5115\n",
      "Epoch 4/5\n",
      "2000/2000 [==============================] - 3s 2ms/sample - loss: 1.1735 - accuracy: 0.7510\n",
      "Epoch 5/5\n",
      "2000/2000 [==============================] - 3s 2ms/sample - loss: 0.6574 - accuracy: 0.8330\n",
      "Argmax CopycatCNN (vs. Protected) : 0.83475\n",
      "Probabilistic KnockoffNets (vs. Protected) : 0.216\n",
      "Argmax KnockoffNets (vs. Protected) : 0.801125\n",
      "Train on 4000 samples\n",
      "Epoch 1/5\n",
      "4000/4000 [==============================] - 5s 1ms/sample - loss: 2.3012 - accuracy: 0.1287\n",
      "Epoch 2/5\n",
      "4000/4000 [==============================] - 5s 1ms/sample - loss: 2.2993 - accuracy: 0.1415\n",
      "Epoch 3/5\n",
      "4000/4000 [==============================] - 4s 1ms/sample - loss: 2.2984 - accuracy: 0.1723\n",
      "Epoch 4/5\n",
      "4000/4000 [==============================] - 4s 1ms/sample - loss: 2.2977 - accuracy: 0.2243\n",
      "Epoch 5/5\n",
      "4000/4000 [==============================] - 4s 1ms/sample - loss: 2.2971 - accuracy: 0.2625\n",
      "Probabilistic CopycatCNN (vs. Protected) : 0.287\n",
      "Train on 4000 samples\n",
      "Epoch 1/5\n",
      "4000/4000 [==============================] - 6s 1ms/sample - loss: 2.1828 - accuracy: 0.3440\n",
      "Epoch 2/5\n",
      "4000/4000 [==============================] - 7s 2ms/sample - loss: 1.2603 - accuracy: 0.7387\n",
      "Epoch 3/5\n",
      "4000/4000 [==============================] - 4s 1ms/sample - loss: 0.5062 - accuracy: 0.8547\n",
      "Epoch 4/5\n",
      "4000/4000 [==============================] - 4s 1ms/sample - loss: 0.3838 - accuracy: 0.8932\n",
      "Epoch 5/5\n",
      "4000/4000 [==============================] - 5s 1ms/sample - loss: 0.3254 - accuracy: 0.9093\n",
      "Argmax CopycatCNN (vs. Protected) : 0.87666667\n",
      "Probabilistic KnockoffNets (vs. Protected) : 0.29933333\n",
      "Argmax KnockoffNets (vs. Protected) : 0.88733333\n",
      "Train on 5000 samples\n",
      "Epoch 1/5\n",
      "5000/5000 [==============================] - 6s 1ms/sample - loss: 2.3027 - accuracy: 0.1066\n",
      "Epoch 2/5\n",
      "5000/5000 [==============================] - 7s 1ms/sample - loss: 2.2999 - accuracy: 0.1342\n",
      "Epoch 3/5\n",
      "5000/5000 [==============================] - 7s 1ms/sample - loss: 2.2988 - accuracy: 0.1458\n",
      "Epoch 4/5\n",
      "5000/5000 [==============================] - 5s 1ms/sample - loss: 2.2981 - accuracy: 0.1680\n",
      "Epoch 5/5\n",
      "5000/5000 [==============================] - 6s 1ms/sample - loss: 2.2975 - accuracy: 0.1954\n",
      "Probabilistic CopycatCNN (vs. Protected) : 0.2078\n",
      "Train on 5000 samples\n",
      "Epoch 1/5\n",
      "5000/5000 [==============================] - 6s 1ms/sample - loss: 2.2377 - accuracy: 0.3244\n",
      "Epoch 2/5\n",
      "5000/5000 [==============================] - 6s 1ms/sample - loss: 1.5293 - accuracy: 0.7116\n",
      "Epoch 3/5\n",
      "5000/5000 [==============================] - 6s 1ms/sample - loss: 0.5322 - accuracy: 0.8550\n",
      "Epoch 4/5\n",
      "5000/5000 [==============================] - 6s 1ms/sample - loss: 0.3815 - accuracy: 0.8912\n",
      "Epoch 5/5\n",
      "5000/5000 [==============================] - 5s 997us/sample - loss: 0.3298 - accuracy: 0.9046\n",
      "Argmax CopycatCNN (vs. Protected) : 0.8846\n",
      "Probabilistic KnockoffNets (vs. Protected) : 0.2896\n",
      "Argmax KnockoffNets (vs. Protected) : 0.804\n",
      "CPU times: user 19min 26s, sys: 6min 29s, total: 25min 56s\n",
      "Wall time: 6min 58s\n"
     ]
    }
   ],
   "source": [
    "%%time\n",
    "# Stealing from the protected classifier.\n",
    "\n",
    "attack_catalogue = {\n",
    "                    \"Probabilistic CopycatCNN (vs. Protected)\": CopycatCNN(classifier=classifier_protected,\n",
    "                                              batch_size_fit=64,\n",
    "                                              batch_size_query=64,\n",
    "                                              nb_epochs=num_epochs,\n",
    "                                              nb_stolen=len_steal,\n",
    "                                              use_probability=True),\n",
    "                    \"Argmax CopycatCNN (vs. Protected)\": CopycatCNN(classifier=classifier_protected,\n",
    "                                              batch_size_fit=64,\n",
    "                                              batch_size_query=64,\n",
    "                                              nb_epochs=num_epochs,\n",
    "                                              nb_stolen=len_steal,\n",
    "                                              use_probability=False),\n",
    "                    \"Probabilistic KnockoffNets (vs. Protected)\": KnockoffNets(classifier=classifier_protected,\n",
    "                                              batch_size_fit=64,\n",
    "                                              batch_size_query=64,\n",
    "                                              nb_epochs=num_epochs,\n",
    "                                              nb_stolen=len_steal,\n",
    "                                              use_probability=True),\n",
    "                    \"Argmax KnockoffNets (vs. Protected)\": KnockoffNets(classifier=classifier_protected,\n",
    "                                              batch_size_fit=64,\n",
    "                                              batch_size_query=64,\n",
    "                                              nb_epochs=num_epochs,\n",
    "                                              nb_stolen=len_steal,\n",
    "                                              use_probability=False),\n",
    "#                     \"FunctionallyEquivalentExtraction\": FunctionallyEquivalentExtraction(classifier=classifier_flat_protected,\n",
    "#                                               num_neurons=128),  # This one takes too long time for this dataset/model.\n",
    "                    }\n",
    "\n",
    "results_protected = []\n",
    "for len_steal in [250, 500, 1000, 2000, 4000, 5000]:\n",
    "    indices = np.random.permutation(len(x_test0))\n",
    "    x_steal = x_test0[indices[:len_steal]]\n",
    "    y_steal = y_test0[indices[:len_steal]]\n",
    "    x_test = x_test0[indices[len_steal:]]\n",
    "    y_test = y_test0[indices[len_steal:]]\n",
    "\n",
    "    for name, attack in attack_catalogue.items():\n",
    "        model_stolen = get_model(num_classes=10, c1=32, c2=64, d1=128)\n",
    "        classifier_stolen = KerasClassifier(model_stolen, clip_values=(0, 1), use_logits=False)\n",
    "        if name==\"FunctionallyEquivalentExtraction\":\n",
    "            classifier_stolen = attack.extract(np.reshape(x_steal, [len(x_steal), -1]), y_steal, thieved_classifier=classifier_stolen)\n",
    "        else:\n",
    "            classifier_stolen = attack.extract(x_steal, y_steal, thieved_classifier=classifier_stolen)\n",
    "        \n",
    "        acc = classifier_stolen._model.evaluate(x_test, y_test)[1]\n",
    "        print(name, \":\", acc)\n",
    "        results_protected.append((name, len_steal, acc))\n"
   ]
  },
  {
   "cell_type": "markdown",
   "metadata": {},
   "source": [
    "### Evaluate Attacked Protected Classifier"
   ]
  },
  {
   "cell_type": "code",
   "execution_count": 16,
   "metadata": {},
   "outputs": [
    {
     "data": {
      "image/png": "[encoded data removed]",
      "text/plain": [
       "<Figure size 576x432 with 1 Axes>"
      ]
     },
     "metadata": {
      "needs_background": "light"
     },
     "output_type": "display_data"
    }
   ],
   "source": [
    "df_protected = pd.DataFrame(results_protected, columns=('Method Name', 'Stealing Dataset Size', 'Accuracy'))\n",
    "fig, ax = plt.subplots(figsize=(8,6))\n",
    "ax.set_xlabel(\"Stealing Dataset Size\")\n",
    "ax.set_ylabel(\"Stolen Model Accuracy\")\n",
    "for name, group in df_protected.groupby(\"Method Name\"):\n",
    "    group.plot(1, 2, ax=ax, label=name)\n",
    "plt.show()"
   ]
  },
  {
   "cell_type": "code",
   "execution_count": 17,
   "metadata": {},
   "outputs": [],
   "source": [
    "df_combined = pd.concat([df, df_protected])\n",
    "groupby = df_combined.groupby(\"Method Name\")"
   ]
  },
  {
   "cell_type": "code",
   "execution_count": 18,
   "metadata": {},
   "outputs": [
    {
     "name": "stderr",
     "output_type": "stream",
     "text": [
      "/Users/serg/opt/anaconda3/lib/python3.7/site-packages/ipykernel_launcher.py:8: UserWarning: Matplotlib is currently using module://matplotlib_inline.backend_inline, which is a non-GUI backend, so cannot show the figure.\n",
      "  \n",
      "/Users/serg/opt/anaconda3/lib/python3.7/site-packages/ipykernel_launcher.py:8: UserWarning: Matplotlib is currently using module://matplotlib_inline.backend_inline, which is a non-GUI backend, so cannot show the figure.\n",
      "  \n"
     ]
    },
    {
     "data": {
      "image/png": "[encoded data removed]",
      "text/plain": [
       "<Figure size 576x432 with 1 Axes>"
      ]
     },
     "metadata": {
      "needs_background": "light"
     },
     "output_type": "display_data"
    },
    {
     "data": {
      "image/png": "[encoded data removed]",
      "text/plain": [
       "<Figure size 576x432 with 1 Axes>"
      ]
     },
     "metadata": {
      "needs_background": "light"
     },
     "output_type": "display_data"
    }
   ],
   "source": [
    "names = [\"CopycatCNN\", \"KnockoffNets\"]\n",
    "for name in names:\n",
    "    fig, ax = plt.subplots(figsize=(8,6))\n",
    "    groupby.get_group(\"Probabilistic \" + name).plot(1,2,ax=ax, label=\"Probabilistic \" + name)\n",
    "    groupby.get_group(\"Probabilistic \" + name + \" (vs. Protected)\").plot(1,2,ax=ax, label=\"Probabilistic \" + name + \" (vs. Protected)\")\n",
    "    ax.set_xlabel(\"Stealing Dataset Size\")\n",
    "    ax.set_ylabel(\"Stolen Model Accuracy\")\n",
    "    fig.show()"
   ]
  },
  {
   "cell_type": "raw",
   "metadata": {},
   "source": [
    "# Next Step: Using data augmentation can make the model stealing process much easier and faster, and can make the probabilistic attack much better."
   ]
  }
 ],
 "metadata": {
  "kernelspec": {
   "display_name": "Python 3 (ipykernel)",
   "language": "python",
   "name": "python3"
  },
  "language_info": {
   "codemirror_mode": {
    "name": "ipython",
    "version": 3
   },
   "file_extension": ".py",
   "mimetype": "text/x-python",
   "name": "python",
   "nbconvert_exporter": "python",
   "pygments_lexer": "ipython3",
   "version": "3.7.12"
  }
 },
 "nbformat": 4,
 "nbformat_minor": 4
}
